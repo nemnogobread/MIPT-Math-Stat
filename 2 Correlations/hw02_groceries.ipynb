{
 "cells": [
  {
   "cell_type": "markdown",
   "metadata": {},
   "source": [
    "<center>\n",
    "<img src=\"logo.png\" height=\"900\"> \n",
    "</center>\n",
    "\n",
    "\n",
    "#  Анализируем чеки\n",
    "\n",
    "В этом задании мы будем работать с покупками и чеками. Смотреть за корреляциями в покупках довольно полезно.\n",
    "\n",
    "> В 1992 году группа по консалтингу в области ритейла компании Teradata под руководством Томаса Блишока провела исследование 1.2 миллиона транзакций в 25 магазинах для ритейлера Osco Drug (Drug Store — формат разнокалиберных магазинов у дома). После анализа всех этих транзакций самым сильным правилом получилось «Между 17:00 и 19:00 чаще всего пиво и подгузники покупают вместе». К сожалению, такое правило показалось руководству Osco Drug настолько контринтуитивным, что ставить подгузники на полках рядом с пивом они не стали. Хотя объяснение паре пиво-подгузники вполне себе нашлось: когда оба члена молодой семьи возвращались с работы домой (как раз часам к 5 вечера), жены обычно отправляли мужей за подгузниками в ближайший магазин. И мужья, не долго думая, совмещали приятное с полезным — покупали подгузники по заданию жены и пиво для собственного вечернего времяпрепровождения.\n",
    "\n",
    "Для работы будем использовать датасет о продуктовых корзинах: https://www.kaggle.com/heeraldedhia/groceries-dataset"
   ]
  },
  {
   "cell_type": "code",
   "execution_count": 1,
   "metadata": {},
   "outputs": [],
   "source": [
    "import numpy as np\n",
    "import pandas as pd\n",
    "\n",
    "import scipy.stats as sts\n",
    "import matplotlib.pyplot as plt\n",
    "import seaborn as sns\n",
    "\n",
    "plt.style.use('ggplot')  # стиль для графиков\n",
    "%matplotlib inline"
   ]
  },
  {
   "cell_type": "markdown",
   "metadata": {},
   "source": [
    "Подружаем данные и смотрим как они выглядят."
   ]
  },
  {
   "cell_type": "code",
   "execution_count": 2,
   "metadata": {},
   "outputs": [
    {
     "name": "stdout",
     "output_type": "stream",
     "text": [
      "(38765, 3)\n"
     ]
    },
    {
     "data": {
      "text/html": [
       "<div>\n",
       "<style scoped>\n",
       "    .dataframe tbody tr th:only-of-type {\n",
       "        vertical-align: middle;\n",
       "    }\n",
       "\n",
       "    .dataframe tbody tr th {\n",
       "        vertical-align: top;\n",
       "    }\n",
       "\n",
       "    .dataframe thead th {\n",
       "        text-align: right;\n",
       "    }\n",
       "</style>\n",
       "<table border=\"1\" class=\"dataframe\">\n",
       "  <thead>\n",
       "    <tr style=\"text-align: right;\">\n",
       "      <th></th>\n",
       "      <th>id</th>\n",
       "      <th>fielddate</th>\n",
       "      <th>product</th>\n",
       "    </tr>\n",
       "  </thead>\n",
       "  <tbody>\n",
       "    <tr>\n",
       "      <th>0</th>\n",
       "      <td>1808</td>\n",
       "      <td>21-07-2015</td>\n",
       "      <td>tropical fruit</td>\n",
       "    </tr>\n",
       "    <tr>\n",
       "      <th>1</th>\n",
       "      <td>2552</td>\n",
       "      <td>05-01-2015</td>\n",
       "      <td>whole milk</td>\n",
       "    </tr>\n",
       "    <tr>\n",
       "      <th>2</th>\n",
       "      <td>2300</td>\n",
       "      <td>19-09-2015</td>\n",
       "      <td>pip fruit</td>\n",
       "    </tr>\n",
       "    <tr>\n",
       "      <th>3</th>\n",
       "      <td>1187</td>\n",
       "      <td>12-12-2015</td>\n",
       "      <td>other vegetables</td>\n",
       "    </tr>\n",
       "    <tr>\n",
       "      <th>4</th>\n",
       "      <td>3037</td>\n",
       "      <td>01-02-2015</td>\n",
       "      <td>whole milk</td>\n",
       "    </tr>\n",
       "  </tbody>\n",
       "</table>\n",
       "</div>"
      ],
      "text/plain": [
       "     id   fielddate           product\n",
       "0  1808  21-07-2015    tropical fruit\n",
       "1  2552  05-01-2015        whole milk\n",
       "2  2300  19-09-2015         pip fruit\n",
       "3  1187  12-12-2015  other vegetables\n",
       "4  3037  01-02-2015        whole milk"
      ]
     },
     "execution_count": 2,
     "metadata": {},
     "output_type": "execute_result"
    }
   ],
   "source": [
    "df = pd.read_csv('data/groceries.csv', sep=',')\n",
    "df.columns = ['id', 'fielddate', 'product']\n",
    "print(df.shape)\n",
    "df.head()"
   ]
  },
  {
   "cell_type": "markdown",
   "metadata": {},
   "source": [
    "## 1. Корреляции\n",
    "\n",
    "Для начала поработаем с корреляциями в данных. \n",
    "\n",
    "__а)__ Какой товар покупался чаще всего? Сохраните название этого товара в переменную `product_name`."
   ]
  },
  {
   "cell_type": "code",
   "execution_count": 3,
   "metadata": {
    "deletable": false,
    "nbgrader": {
     "cell_type": "code",
     "checksum": "989acb2aed6b8d1e95ba1aa5ff5c8988",
     "grade": false,
     "grade_id": "cell-9d268bdaaa451d51",
     "locked": false,
     "schema_version": 3,
     "solution": true,
     "task": false
    }
   },
   "outputs": [
    {
     "name": "stdout",
     "output_type": "stream",
     "text": [
      "whole milk\n"
     ]
    }
   ],
   "source": [
    "### ╰( ͡° ͜ʖ ͡° )つ▬▬ι═══════  bzzzzzzzzzz\n",
    "# will the code be with you\n",
    "\n",
    "# Формат ответа: строка, пример: 'pip fruit'\n",
    "# Вокруг ответа не должно быть никаких надписей array(['pip fruit']) или Index('pip fruit')\n",
    "# Это должна быть именно строка, а не строка в массиве\n",
    "product_name = df['product'].value_counts().index[0]\n",
    "\n",
    "print(product_name)\n"
   ]
  },
  {
   "cell_type": "code",
   "execution_count": 4,
   "metadata": {
    "deletable": false,
    "editable": false,
    "nbgrader": {
     "cell_type": "code",
     "checksum": "153389c55c6243d7b8897ca0e33be5a5",
     "grade": true,
     "grade_id": "cell-2fd1cfdcf5400ee3",
     "locked": true,
     "points": 1,
     "schema_version": 3,
     "solution": false,
     "task": false
    }
   },
   "outputs": [],
   "source": [
    "# проверка, что задание решено корректно\n",
    "assert len(product_name) == 10\n",
    "\n",
    "# Аналогичные тесты скрыты от вас"
   ]
  },
  {
   "cell_type": "markdown",
   "metadata": {},
   "source": [
    "__б)__ Сколько всего уникальных заказов было сделано? Сохраните число заказов в переменную `n_cnt`."
   ]
  },
  {
   "cell_type": "code",
   "execution_count": 5,
   "metadata": {
    "deletable": false,
    "nbgrader": {
     "cell_type": "code",
     "checksum": "057496e296948a782d9b48f9b4ea3815",
     "grade": false,
     "grade_id": "cell-4c3ce54e9c52ae14",
     "locked": false,
     "schema_version": 3,
     "solution": true,
     "task": false
    }
   },
   "outputs": [
    {
     "name": "stdout",
     "output_type": "stream",
     "text": [
      "3898\n"
     ]
    }
   ],
   "source": [
    "### ╰( ͡° ͜ʖ ͡° )つ▬▬ι═══════  bzzzzzzzzzz\n",
    "# will the code be with you\n",
    "\n",
    "# Формат ответа: целое число, пример: 5555\n",
    "n_cnt = df['id'].nunique()\n",
    "\n",
    "print(n_cnt)\n"
   ]
  },
  {
   "cell_type": "code",
   "execution_count": 6,
   "metadata": {
    "deletable": false,
    "editable": false,
    "nbgrader": {
     "cell_type": "code",
     "checksum": "f93cfd87b43b743e88a4a21d5a773f5e",
     "grade": true,
     "grade_id": "cell-608432c41bdcd71d",
     "locked": true,
     "points": 1,
     "schema_version": 3,
     "solution": false,
     "task": false
    }
   },
   "outputs": [],
   "source": [
    "# проверка, что задание решено корректно\n",
    "assert n_cnt > 3800\n",
    "assert n_cnt < 4000\n",
    "\n",
    "# Аналогичные тесты скрыты от вас"
   ]
  },
  {
   "cell_type": "markdown",
   "metadata": {},
   "source": [
    "В таблице выше в каждой строке записана информация о покупке конкретного товара. Давайте сделаем табличку размера \"число товаров\" на \"число покупок\", чтобы понимать какие товары покупались вместе, а какие нет. \n",
    "\n",
    "> Обратите внимание, то здесь задание немного упрощено. Вообще говоря, нам нужно делать агрегацию по паре `fielddate, id`, если мы хотим изучать чеки по-честному. Но мы делаем её только по `id` для того, чтобы не усложнять задание. В качестве необязательного дополнения вы можете после сдачи задания переделать код так, чтобы дата тоже учитывалась при расчётах. "
   ]
  },
  {
   "cell_type": "code",
   "execution_count": 7,
   "metadata": {},
   "outputs": [
    {
     "data": {
      "text/html": [
       "<div>\n",
       "<style scoped>\n",
       "    .dataframe tbody tr th:only-of-type {\n",
       "        vertical-align: middle;\n",
       "    }\n",
       "\n",
       "    .dataframe tbody tr th {\n",
       "        vertical-align: top;\n",
       "    }\n",
       "\n",
       "    .dataframe thead th {\n",
       "        text-align: right;\n",
       "    }\n",
       "</style>\n",
       "<table border=\"1\" class=\"dataframe\">\n",
       "  <thead>\n",
       "    <tr style=\"text-align: right;\">\n",
       "      <th>product</th>\n",
       "      <th>Instant food products</th>\n",
       "      <th>UHT-milk</th>\n",
       "      <th>abrasive cleaner</th>\n",
       "      <th>artif. sweetener</th>\n",
       "      <th>baby cosmetics</th>\n",
       "      <th>bags</th>\n",
       "      <th>baking powder</th>\n",
       "      <th>bathroom cleaner</th>\n",
       "      <th>beef</th>\n",
       "      <th>berries</th>\n",
       "      <th>...</th>\n",
       "      <th>turkey</th>\n",
       "      <th>vinegar</th>\n",
       "      <th>waffles</th>\n",
       "      <th>whipped/sour cream</th>\n",
       "      <th>whisky</th>\n",
       "      <th>white bread</th>\n",
       "      <th>white wine</th>\n",
       "      <th>whole milk</th>\n",
       "      <th>yogurt</th>\n",
       "      <th>zwieback</th>\n",
       "    </tr>\n",
       "    <tr>\n",
       "      <th>id</th>\n",
       "      <th></th>\n",
       "      <th></th>\n",
       "      <th></th>\n",
       "      <th></th>\n",
       "      <th></th>\n",
       "      <th></th>\n",
       "      <th></th>\n",
       "      <th></th>\n",
       "      <th></th>\n",
       "      <th></th>\n",
       "      <th></th>\n",
       "      <th></th>\n",
       "      <th></th>\n",
       "      <th></th>\n",
       "      <th></th>\n",
       "      <th></th>\n",
       "      <th></th>\n",
       "      <th></th>\n",
       "      <th></th>\n",
       "      <th></th>\n",
       "      <th></th>\n",
       "    </tr>\n",
       "  </thead>\n",
       "  <tbody>\n",
       "    <tr>\n",
       "      <th>1000</th>\n",
       "      <td>0</td>\n",
       "      <td>0</td>\n",
       "      <td>0</td>\n",
       "      <td>0</td>\n",
       "      <td>0</td>\n",
       "      <td>0</td>\n",
       "      <td>0</td>\n",
       "      <td>0</td>\n",
       "      <td>0</td>\n",
       "      <td>0</td>\n",
       "      <td>...</td>\n",
       "      <td>0</td>\n",
       "      <td>0</td>\n",
       "      <td>0</td>\n",
       "      <td>0</td>\n",
       "      <td>0</td>\n",
       "      <td>0</td>\n",
       "      <td>0</td>\n",
       "      <td>2</td>\n",
       "      <td>1</td>\n",
       "      <td>0</td>\n",
       "    </tr>\n",
       "    <tr>\n",
       "      <th>1001</th>\n",
       "      <td>0</td>\n",
       "      <td>0</td>\n",
       "      <td>0</td>\n",
       "      <td>0</td>\n",
       "      <td>0</td>\n",
       "      <td>0</td>\n",
       "      <td>0</td>\n",
       "      <td>0</td>\n",
       "      <td>1</td>\n",
       "      <td>0</td>\n",
       "      <td>...</td>\n",
       "      <td>0</td>\n",
       "      <td>0</td>\n",
       "      <td>0</td>\n",
       "      <td>1</td>\n",
       "      <td>0</td>\n",
       "      <td>1</td>\n",
       "      <td>0</td>\n",
       "      <td>2</td>\n",
       "      <td>0</td>\n",
       "      <td>0</td>\n",
       "    </tr>\n",
       "    <tr>\n",
       "      <th>1002</th>\n",
       "      <td>0</td>\n",
       "      <td>0</td>\n",
       "      <td>0</td>\n",
       "      <td>0</td>\n",
       "      <td>0</td>\n",
       "      <td>0</td>\n",
       "      <td>0</td>\n",
       "      <td>0</td>\n",
       "      <td>0</td>\n",
       "      <td>0</td>\n",
       "      <td>...</td>\n",
       "      <td>0</td>\n",
       "      <td>0</td>\n",
       "      <td>0</td>\n",
       "      <td>0</td>\n",
       "      <td>0</td>\n",
       "      <td>0</td>\n",
       "      <td>0</td>\n",
       "      <td>1</td>\n",
       "      <td>0</td>\n",
       "      <td>0</td>\n",
       "    </tr>\n",
       "    <tr>\n",
       "      <th>1003</th>\n",
       "      <td>0</td>\n",
       "      <td>0</td>\n",
       "      <td>0</td>\n",
       "      <td>0</td>\n",
       "      <td>0</td>\n",
       "      <td>0</td>\n",
       "      <td>0</td>\n",
       "      <td>0</td>\n",
       "      <td>0</td>\n",
       "      <td>0</td>\n",
       "      <td>...</td>\n",
       "      <td>0</td>\n",
       "      <td>0</td>\n",
       "      <td>0</td>\n",
       "      <td>0</td>\n",
       "      <td>0</td>\n",
       "      <td>0</td>\n",
       "      <td>0</td>\n",
       "      <td>0</td>\n",
       "      <td>0</td>\n",
       "      <td>0</td>\n",
       "    </tr>\n",
       "    <tr>\n",
       "      <th>1004</th>\n",
       "      <td>0</td>\n",
       "      <td>0</td>\n",
       "      <td>0</td>\n",
       "      <td>0</td>\n",
       "      <td>0</td>\n",
       "      <td>0</td>\n",
       "      <td>0</td>\n",
       "      <td>0</td>\n",
       "      <td>0</td>\n",
       "      <td>0</td>\n",
       "      <td>...</td>\n",
       "      <td>0</td>\n",
       "      <td>0</td>\n",
       "      <td>0</td>\n",
       "      <td>0</td>\n",
       "      <td>0</td>\n",
       "      <td>0</td>\n",
       "      <td>0</td>\n",
       "      <td>3</td>\n",
       "      <td>0</td>\n",
       "      <td>0</td>\n",
       "    </tr>\n",
       "  </tbody>\n",
       "</table>\n",
       "<p>5 rows × 167 columns</p>\n",
       "</div>"
      ],
      "text/plain": [
       "product  Instant food products  UHT-milk  abrasive cleaner  artif. sweetener  \\\n",
       "id                                                                             \n",
       "1000                         0         0                 0                 0   \n",
       "1001                         0         0                 0                 0   \n",
       "1002                         0         0                 0                 0   \n",
       "1003                         0         0                 0                 0   \n",
       "1004                         0         0                 0                 0   \n",
       "\n",
       "product  baby cosmetics  bags  baking powder  bathroom cleaner  beef  berries  \\\n",
       "id                                                                              \n",
       "1000                  0     0              0                 0     0        0   \n",
       "1001                  0     0              0                 0     1        0   \n",
       "1002                  0     0              0                 0     0        0   \n",
       "1003                  0     0              0                 0     0        0   \n",
       "1004                  0     0              0                 0     0        0   \n",
       "\n",
       "product  ...  turkey  vinegar  waffles  whipped/sour cream  whisky  \\\n",
       "id       ...                                                         \n",
       "1000     ...       0        0        0                   0       0   \n",
       "1001     ...       0        0        0                   1       0   \n",
       "1002     ...       0        0        0                   0       0   \n",
       "1003     ...       0        0        0                   0       0   \n",
       "1004     ...       0        0        0                   0       0   \n",
       "\n",
       "product  white bread  white wine  whole milk  yogurt  zwieback  \n",
       "id                                                              \n",
       "1000               0           0           2       1         0  \n",
       "1001               1           0           2       0         0  \n",
       "1002               0           0           1       0         0  \n",
       "1003               0           0           0       0         0  \n",
       "1004               0           0           3       0         0  \n",
       "\n",
       "[5 rows x 167 columns]"
      ]
     },
     "execution_count": 7,
     "metadata": {},
     "output_type": "execute_result"
    }
   ],
   "source": [
    "sparse_sales = pd.pivot_table(df, \n",
    "               values='fielddate', \n",
    "               index='id', \n",
    "               columns='product', \n",
    "               fill_value=0, aggfunc='count')\n",
    "\n",
    "sparse_sales.head()"
   ]
  },
  {
   "cell_type": "markdown",
   "metadata": {},
   "source": [
    "В нашей матрице огромное число нулей. Обычно такие матрицы называют разряжеными. Мы занимаем нулями кучу свободной памяти, которую мы могли бы не занимать, если бы хранили данные [в ином виде.](https://cmdlinetips.com/2018/03/sparse-matrices-in-python-with-scipy/)"
   ]
  },
  {
   "cell_type": "markdown",
   "metadata": {},
   "source": [
    "__в)__ Постройте матрицу корреляций Пирсона. Для этого используйте метод таблицы `.corr`."
   ]
  },
  {
   "cell_type": "code",
   "execution_count": 8,
   "metadata": {
    "deletable": false,
    "nbgrader": {
     "cell_type": "code",
     "checksum": "1f316bc47a0a361a6abdfb0740156e24",
     "grade": false,
     "grade_id": "cell-a8f15b8ba3a946c8",
     "locked": false,
     "schema_version": 3,
     "solution": true,
     "task": false
    }
   },
   "outputs": [
    {
     "data": {
      "text/html": [
       "<div>\n",
       "<style scoped>\n",
       "    .dataframe tbody tr th:only-of-type {\n",
       "        vertical-align: middle;\n",
       "    }\n",
       "\n",
       "    .dataframe tbody tr th {\n",
       "        vertical-align: top;\n",
       "    }\n",
       "\n",
       "    .dataframe thead th {\n",
       "        text-align: right;\n",
       "    }\n",
       "</style>\n",
       "<table border=\"1\" class=\"dataframe\">\n",
       "  <thead>\n",
       "    <tr style=\"text-align: right;\">\n",
       "      <th>product</th>\n",
       "      <th>Instant food products</th>\n",
       "      <th>UHT-milk</th>\n",
       "      <th>abrasive cleaner</th>\n",
       "      <th>artif. sweetener</th>\n",
       "      <th>baby cosmetics</th>\n",
       "      <th>bags</th>\n",
       "      <th>baking powder</th>\n",
       "      <th>bathroom cleaner</th>\n",
       "      <th>beef</th>\n",
       "      <th>berries</th>\n",
       "      <th>...</th>\n",
       "      <th>turkey</th>\n",
       "      <th>vinegar</th>\n",
       "      <th>waffles</th>\n",
       "      <th>whipped/sour cream</th>\n",
       "      <th>whisky</th>\n",
       "      <th>white bread</th>\n",
       "      <th>white wine</th>\n",
       "      <th>whole milk</th>\n",
       "      <th>yogurt</th>\n",
       "      <th>zwieback</th>\n",
       "    </tr>\n",
       "    <tr>\n",
       "      <th>product</th>\n",
       "      <th></th>\n",
       "      <th></th>\n",
       "      <th></th>\n",
       "      <th></th>\n",
       "      <th></th>\n",
       "      <th></th>\n",
       "      <th></th>\n",
       "      <th></th>\n",
       "      <th></th>\n",
       "      <th></th>\n",
       "      <th></th>\n",
       "      <th></th>\n",
       "      <th></th>\n",
       "      <th></th>\n",
       "      <th></th>\n",
       "      <th></th>\n",
       "      <th></th>\n",
       "      <th></th>\n",
       "      <th></th>\n",
       "      <th></th>\n",
       "      <th></th>\n",
       "    </tr>\n",
       "  </thead>\n",
       "  <tbody>\n",
       "    <tr>\n",
       "      <th>Instant food products</th>\n",
       "      <td>1.000000</td>\n",
       "      <td>-0.006936</td>\n",
       "      <td>-0.009420</td>\n",
       "      <td>-0.010825</td>\n",
       "      <td>-0.003470</td>\n",
       "      <td>-0.004007</td>\n",
       "      <td>-0.010419</td>\n",
       "      <td>-0.008275</td>\n",
       "      <td>0.005847</td>\n",
       "      <td>-0.014528</td>\n",
       "      <td>...</td>\n",
       "      <td>0.025355</td>\n",
       "      <td>0.021851</td>\n",
       "      <td>0.005348</td>\n",
       "      <td>0.014025</td>\n",
       "      <td>-0.005670</td>\n",
       "      <td>0.016640</td>\n",
       "      <td>0.002853</td>\n",
       "      <td>0.015981</td>\n",
       "      <td>0.005071</td>\n",
       "      <td>0.018221</td>\n",
       "    </tr>\n",
       "    <tr>\n",
       "      <th>UHT-milk</th>\n",
       "      <td>-0.006936</td>\n",
       "      <td>1.000000</td>\n",
       "      <td>0.013806</td>\n",
       "      <td>0.006105</td>\n",
       "      <td>-0.007877</td>\n",
       "      <td>0.018349</td>\n",
       "      <td>0.009462</td>\n",
       "      <td>-0.018785</td>\n",
       "      <td>0.002897</td>\n",
       "      <td>0.020801</td>\n",
       "      <td>...</td>\n",
       "      <td>-0.003803</td>\n",
       "      <td>-0.024466</td>\n",
       "      <td>0.009144</td>\n",
       "      <td>0.006618</td>\n",
       "      <td>-0.012871</td>\n",
       "      <td>-0.011550</td>\n",
       "      <td>0.009990</td>\n",
       "      <td>0.028747</td>\n",
       "      <td>0.006505</td>\n",
       "      <td>0.028753</td>\n",
       "    </tr>\n",
       "    <tr>\n",
       "      <th>abrasive cleaner</th>\n",
       "      <td>-0.009420</td>\n",
       "      <td>0.013806</td>\n",
       "      <td>1.000000</td>\n",
       "      <td>-0.006523</td>\n",
       "      <td>-0.002091</td>\n",
       "      <td>-0.002415</td>\n",
       "      <td>-0.013429</td>\n",
       "      <td>-0.004986</td>\n",
       "      <td>0.018970</td>\n",
       "      <td>0.001813</td>\n",
       "      <td>...</td>\n",
       "      <td>0.012922</td>\n",
       "      <td>-0.008507</td>\n",
       "      <td>-0.007390</td>\n",
       "      <td>0.002163</td>\n",
       "      <td>-0.003417</td>\n",
       "      <td>0.010777</td>\n",
       "      <td>0.000107</td>\n",
       "      <td>0.003558</td>\n",
       "      <td>0.008360</td>\n",
       "      <td>-0.009420</td>\n",
       "    </tr>\n",
       "    <tr>\n",
       "      <th>artif. sweetener</th>\n",
       "      <td>-0.010825</td>\n",
       "      <td>0.006105</td>\n",
       "      <td>-0.006523</td>\n",
       "      <td>1.000000</td>\n",
       "      <td>0.105251</td>\n",
       "      <td>-0.002775</td>\n",
       "      <td>-0.015432</td>\n",
       "      <td>-0.005730</td>\n",
       "      <td>-0.006645</td>\n",
       "      <td>0.016042</td>\n",
       "      <td>...</td>\n",
       "      <td>0.049392</td>\n",
       "      <td>-0.009776</td>\n",
       "      <td>0.010179</td>\n",
       "      <td>-0.006614</td>\n",
       "      <td>-0.003926</td>\n",
       "      <td>-0.006806</td>\n",
       "      <td>-0.018394</td>\n",
       "      <td>0.029591</td>\n",
       "      <td>-0.024397</td>\n",
       "      <td>-0.010825</td>\n",
       "    </tr>\n",
       "    <tr>\n",
       "      <th>baby cosmetics</th>\n",
       "      <td>-0.003470</td>\n",
       "      <td>-0.007877</td>\n",
       "      <td>-0.002091</td>\n",
       "      <td>0.105251</td>\n",
       "      <td>1.000000</td>\n",
       "      <td>-0.000889</td>\n",
       "      <td>-0.004947</td>\n",
       "      <td>-0.001837</td>\n",
       "      <td>0.014798</td>\n",
       "      <td>-0.007983</td>\n",
       "      <td>...</td>\n",
       "      <td>-0.003919</td>\n",
       "      <td>-0.003134</td>\n",
       "      <td>-0.007413</td>\n",
       "      <td>-0.011288</td>\n",
       "      <td>-0.001259</td>\n",
       "      <td>-0.008476</td>\n",
       "      <td>-0.005896</td>\n",
       "      <td>-0.021056</td>\n",
       "      <td>-0.000410</td>\n",
       "      <td>-0.003470</td>\n",
       "    </tr>\n",
       "    <tr>\n",
       "      <th>...</th>\n",
       "      <td>...</td>\n",
       "      <td>...</td>\n",
       "      <td>...</td>\n",
       "      <td>...</td>\n",
       "      <td>...</td>\n",
       "      <td>...</td>\n",
       "      <td>...</td>\n",
       "      <td>...</td>\n",
       "      <td>...</td>\n",
       "      <td>...</td>\n",
       "      <td>...</td>\n",
       "      <td>...</td>\n",
       "      <td>...</td>\n",
       "      <td>...</td>\n",
       "      <td>...</td>\n",
       "      <td>...</td>\n",
       "      <td>...</td>\n",
       "      <td>...</td>\n",
       "      <td>...</td>\n",
       "      <td>...</td>\n",
       "      <td>...</td>\n",
       "    </tr>\n",
       "    <tr>\n",
       "      <th>white bread</th>\n",
       "      <td>0.016640</td>\n",
       "      <td>-0.011550</td>\n",
       "      <td>0.010777</td>\n",
       "      <td>-0.006806</td>\n",
       "      <td>-0.008476</td>\n",
       "      <td>-0.009789</td>\n",
       "      <td>-0.011195</td>\n",
       "      <td>0.005394</td>\n",
       "      <td>0.015850</td>\n",
       "      <td>0.030758</td>\n",
       "      <td>...</td>\n",
       "      <td>0.014921</td>\n",
       "      <td>0.001920</td>\n",
       "      <td>-0.000010</td>\n",
       "      <td>0.069757</td>\n",
       "      <td>0.004792</td>\n",
       "      <td>1.000000</td>\n",
       "      <td>0.046272</td>\n",
       "      <td>0.053497</td>\n",
       "      <td>0.030962</td>\n",
       "      <td>0.016640</td>\n",
       "    </tr>\n",
       "    <tr>\n",
       "      <th>white wine</th>\n",
       "      <td>0.002853</td>\n",
       "      <td>0.009990</td>\n",
       "      <td>0.000107</td>\n",
       "      <td>-0.018394</td>\n",
       "      <td>-0.005896</td>\n",
       "      <td>-0.006809</td>\n",
       "      <td>-0.010370</td>\n",
       "      <td>0.022577</td>\n",
       "      <td>0.015060</td>\n",
       "      <td>0.021670</td>\n",
       "      <td>...</td>\n",
       "      <td>-0.005083</td>\n",
       "      <td>0.028101</td>\n",
       "      <td>0.015072</td>\n",
       "      <td>0.000317</td>\n",
       "      <td>0.017039</td>\n",
       "      <td>0.046272</td>\n",
       "      <td>1.000000</td>\n",
       "      <td>0.032862</td>\n",
       "      <td>0.039600</td>\n",
       "      <td>-0.006953</td>\n",
       "    </tr>\n",
       "    <tr>\n",
       "      <th>whole milk</th>\n",
       "      <td>0.015981</td>\n",
       "      <td>0.028747</td>\n",
       "      <td>0.003558</td>\n",
       "      <td>0.029591</td>\n",
       "      <td>-0.021056</td>\n",
       "      <td>-0.024316</td>\n",
       "      <td>0.020192</td>\n",
       "      <td>0.032618</td>\n",
       "      <td>0.073856</td>\n",
       "      <td>0.028186</td>\n",
       "      <td>...</td>\n",
       "      <td>0.013874</td>\n",
       "      <td>-0.007158</td>\n",
       "      <td>0.069096</td>\n",
       "      <td>0.060338</td>\n",
       "      <td>0.039298</td>\n",
       "      <td>0.053497</td>\n",
       "      <td>0.032862</td>\n",
       "      <td>1.000000</td>\n",
       "      <td>0.103533</td>\n",
       "      <td>0.043075</td>\n",
       "    </tr>\n",
       "    <tr>\n",
       "      <th>yogurt</th>\n",
       "      <td>0.005071</td>\n",
       "      <td>0.006505</td>\n",
       "      <td>0.008360</td>\n",
       "      <td>-0.024397</td>\n",
       "      <td>-0.000410</td>\n",
       "      <td>0.034985</td>\n",
       "      <td>0.041819</td>\n",
       "      <td>-0.011744</td>\n",
       "      <td>0.050165</td>\n",
       "      <td>0.023489</td>\n",
       "      <td>...</td>\n",
       "      <td>0.013537</td>\n",
       "      <td>-0.020038</td>\n",
       "      <td>0.036691</td>\n",
       "      <td>0.030023</td>\n",
       "      <td>0.002466</td>\n",
       "      <td>0.030962</td>\n",
       "      <td>0.039600</td>\n",
       "      <td>0.103533</td>\n",
       "      <td>1.000000</td>\n",
       "      <td>0.018904</td>\n",
       "    </tr>\n",
       "    <tr>\n",
       "      <th>zwieback</th>\n",
       "      <td>0.018221</td>\n",
       "      <td>0.028753</td>\n",
       "      <td>-0.009420</td>\n",
       "      <td>-0.010825</td>\n",
       "      <td>-0.003470</td>\n",
       "      <td>-0.004007</td>\n",
       "      <td>0.037053</td>\n",
       "      <td>0.054973</td>\n",
       "      <td>-0.005211</td>\n",
       "      <td>0.021197</td>\n",
       "      <td>...</td>\n",
       "      <td>-0.003317</td>\n",
       "      <td>-0.014118</td>\n",
       "      <td>0.013097</td>\n",
       "      <td>-0.020911</td>\n",
       "      <td>-0.005670</td>\n",
       "      <td>0.016640</td>\n",
       "      <td>-0.006953</td>\n",
       "      <td>0.043075</td>\n",
       "      <td>0.018904</td>\n",
       "      <td>1.000000</td>\n",
       "    </tr>\n",
       "  </tbody>\n",
       "</table>\n",
       "<p>167 rows × 167 columns</p>\n",
       "</div>"
      ],
      "text/plain": [
       "product                Instant food products  UHT-milk  abrasive cleaner  \\\n",
       "product                                                                    \n",
       "Instant food products               1.000000 -0.006936         -0.009420   \n",
       "UHT-milk                           -0.006936  1.000000          0.013806   \n",
       "abrasive cleaner                   -0.009420  0.013806          1.000000   \n",
       "artif. sweetener                   -0.010825  0.006105         -0.006523   \n",
       "baby cosmetics                     -0.003470 -0.007877         -0.002091   \n",
       "...                                      ...       ...               ...   \n",
       "white bread                         0.016640 -0.011550          0.010777   \n",
       "white wine                          0.002853  0.009990          0.000107   \n",
       "whole milk                          0.015981  0.028747          0.003558   \n",
       "yogurt                              0.005071  0.006505          0.008360   \n",
       "zwieback                            0.018221  0.028753         -0.009420   \n",
       "\n",
       "product                artif. sweetener  baby cosmetics      bags  \\\n",
       "product                                                             \n",
       "Instant food products         -0.010825       -0.003470 -0.004007   \n",
       "UHT-milk                       0.006105       -0.007877  0.018349   \n",
       "abrasive cleaner              -0.006523       -0.002091 -0.002415   \n",
       "artif. sweetener               1.000000        0.105251 -0.002775   \n",
       "baby cosmetics                 0.105251        1.000000 -0.000889   \n",
       "...                                 ...             ...       ...   \n",
       "white bread                   -0.006806       -0.008476 -0.009789   \n",
       "white wine                    -0.018394       -0.005896 -0.006809   \n",
       "whole milk                     0.029591       -0.021056 -0.024316   \n",
       "yogurt                        -0.024397       -0.000410  0.034985   \n",
       "zwieback                      -0.010825       -0.003470 -0.004007   \n",
       "\n",
       "product                baking powder  bathroom cleaner      beef   berries  \\\n",
       "product                                                                      \n",
       "Instant food products      -0.010419         -0.008275  0.005847 -0.014528   \n",
       "UHT-milk                    0.009462         -0.018785  0.002897  0.020801   \n",
       "abrasive cleaner           -0.013429         -0.004986  0.018970  0.001813   \n",
       "artif. sweetener           -0.015432         -0.005730 -0.006645  0.016042   \n",
       "baby cosmetics             -0.004947         -0.001837  0.014798 -0.007983   \n",
       "...                              ...               ...       ...       ...   \n",
       "white bread                -0.011195          0.005394  0.015850  0.030758   \n",
       "white wine                 -0.010370          0.022577  0.015060  0.021670   \n",
       "whole milk                  0.020192          0.032618  0.073856  0.028186   \n",
       "yogurt                      0.041819         -0.011744  0.050165  0.023489   \n",
       "zwieback                    0.037053          0.054973 -0.005211  0.021197   \n",
       "\n",
       "product                ...    turkey   vinegar   waffles  whipped/sour cream  \\\n",
       "product                ...                                                     \n",
       "Instant food products  ...  0.025355  0.021851  0.005348            0.014025   \n",
       "UHT-milk               ... -0.003803 -0.024466  0.009144            0.006618   \n",
       "abrasive cleaner       ...  0.012922 -0.008507 -0.007390            0.002163   \n",
       "artif. sweetener       ...  0.049392 -0.009776  0.010179           -0.006614   \n",
       "baby cosmetics         ... -0.003919 -0.003134 -0.007413           -0.011288   \n",
       "...                    ...       ...       ...       ...                 ...   \n",
       "white bread            ...  0.014921  0.001920 -0.000010            0.069757   \n",
       "white wine             ... -0.005083  0.028101  0.015072            0.000317   \n",
       "whole milk             ...  0.013874 -0.007158  0.069096            0.060338   \n",
       "yogurt                 ...  0.013537 -0.020038  0.036691            0.030023   \n",
       "zwieback               ... -0.003317 -0.014118  0.013097           -0.020911   \n",
       "\n",
       "product                  whisky  white bread  white wine  whole milk  \\\n",
       "product                                                                \n",
       "Instant food products -0.005670     0.016640    0.002853    0.015981   \n",
       "UHT-milk              -0.012871    -0.011550    0.009990    0.028747   \n",
       "abrasive cleaner      -0.003417     0.010777    0.000107    0.003558   \n",
       "artif. sweetener      -0.003926    -0.006806   -0.018394    0.029591   \n",
       "baby cosmetics        -0.001259    -0.008476   -0.005896   -0.021056   \n",
       "...                         ...          ...         ...         ...   \n",
       "white bread            0.004792     1.000000    0.046272    0.053497   \n",
       "white wine             0.017039     0.046272    1.000000    0.032862   \n",
       "whole milk             0.039298     0.053497    0.032862    1.000000   \n",
       "yogurt                 0.002466     0.030962    0.039600    0.103533   \n",
       "zwieback              -0.005670     0.016640   -0.006953    0.043075   \n",
       "\n",
       "product                  yogurt  zwieback  \n",
       "product                                    \n",
       "Instant food products  0.005071  0.018221  \n",
       "UHT-milk               0.006505  0.028753  \n",
       "abrasive cleaner       0.008360 -0.009420  \n",
       "artif. sweetener      -0.024397 -0.010825  \n",
       "baby cosmetics        -0.000410 -0.003470  \n",
       "...                         ...       ...  \n",
       "white bread            0.030962  0.016640  \n",
       "white wine             0.039600 -0.006953  \n",
       "whole milk             0.103533  0.043075  \n",
       "yogurt                 1.000000  0.018904  \n",
       "zwieback               0.018904  1.000000  \n",
       "\n",
       "[167 rows x 167 columns]"
      ]
     },
     "execution_count": 8,
     "metadata": {},
     "output_type": "execute_result"
    }
   ],
   "source": [
    "### ╰( ͡° ͜ʖ ͡° )つ▬▬ι═══════  bzzzzzzzzzz\n",
    "# will the code be with you\n",
    "\n",
    "# Формат ответа: таблица pd.DataFrame размера (167, 167)\n",
    "sales_correlation = sparse_sales.corr()\n",
    " \n",
    "sales_correlation"
   ]
  },
  {
   "cell_type": "markdown",
   "metadata": {},
   "source": [
    "Какие продукты сильнее всего коррелируют с яйцами, `domestic eggs` (их чаще всего покупают вместе)?  Сохраните название самого скоррелированного продукта в переменную `top_1`."
   ]
  },
  {
   "cell_type": "code",
   "execution_count": 9,
   "metadata": {
    "deletable": false,
    "nbgrader": {
     "cell_type": "code",
     "checksum": "678a180e150dcff0fd0b246353de1e61",
     "grade": false,
     "grade_id": "cell-cf20442762e0f104",
     "locked": false,
     "schema_version": 3,
     "solution": true,
     "task": false
    }
   },
   "outputs": [
    {
     "data": {
      "text/plain": [
       "'meat spreads'"
      ]
     },
     "execution_count": 9,
     "metadata": {},
     "output_type": "execute_result"
    }
   ],
   "source": [
    "### ╰( ͡° ͜ʖ ͡° )つ▬▬ι═══════  bzzzzzzzzzz\n",
    "# will the code be with you\n",
    "\n",
    "# Формат ответа: строка, пример: 'pip fruit'\n",
    "# Вокруг ответа не должно быть никаких надписей array(['pip fruit']) или Index('pip fruit')\n",
    "# Это должна быть именно строка, а не строка в массиве\n",
    "top_1 =  sales_correlation['domestic eggs'].sort_values(ascending = False).index[1]\n",
    "top_1\n"
   ]
  },
  {
   "cell_type": "markdown",
   "metadata": {},
   "source": [
    "Какие продукты \"мешают\" купить яйца, то есть отрицательно коррелируют с их покупкой? Сохраните название продукта с самой большой отрицательной корреляцией в переменную `bottom_1`."
   ]
  },
  {
   "cell_type": "code",
   "execution_count": 10,
   "metadata": {
    "deletable": false,
    "nbgrader": {
     "cell_type": "code",
     "checksum": "a69d93d0bdb0f94a8c15081269d5a6cf",
     "grade": false,
     "grade_id": "cell-fbd202e1529e31c7",
     "locked": false,
     "schema_version": 3,
     "solution": true,
     "task": false
    }
   },
   "outputs": [
    {
     "data": {
      "text/plain": [
       "'pet care'"
      ]
     },
     "execution_count": 10,
     "metadata": {},
     "output_type": "execute_result"
    }
   ],
   "source": [
    "### ╰( ͡° ͜ʖ ͡° )つ▬▬ι═══════  bzzzzzzzzzz\n",
    "# will the code be with you\n",
    "\n",
    "# Формат ответа: строка, пример: 'pip fruit'\n",
    "# Вокруг ответа не должно быть никаких надписей array(['pip fruit']) или Index('pip fruit')\n",
    "# Это должна быть именно строка, а не строка в массиве\n",
    "bottom_1 = sales_correlation['domestic eggs'].sort_values(ascending = True).index[0]\n",
    "bottom_1\n"
   ]
  },
  {
   "cell_type": "code",
   "execution_count": 11,
   "metadata": {
    "deletable": false,
    "editable": false,
    "nbgrader": {
     "cell_type": "code",
     "checksum": "6ac2ce2c786529bbf15bc7a6d8e5b419",
     "grade": true,
     "grade_id": "cell-d070d4a1a7bde720",
     "locked": true,
     "points": 1,
     "schema_version": 3,
     "solution": false,
     "task": false
    }
   },
   "outputs": [],
   "source": [
    "# проверка, что задание решено корректно\n",
    "assert len(bottom_1) == 8\n",
    "assert len(top_1) == 12\n",
    "\n",
    "# Аналогичные тесты скрыты от вас"
   ]
  },
  {
   "cell_type": "markdown",
   "metadata": {},
   "source": [
    "Напишите код, который выводит самые коррелируемые товары для случайного продукта из списка `unique_products`."
   ]
  },
  {
   "cell_type": "code",
   "execution_count": 13,
   "metadata": {
    "deletable": false,
    "nbgrader": {
     "cell_type": "code",
     "checksum": "d9963e0690e8f979766ae92f7c9e1637",
     "grade": false,
     "grade_id": "cell-50a7be49564df467",
     "locked": false,
     "schema_version": 3,
     "solution": true,
     "task": false
    }
   },
   "outputs": [
    {
     "data": {
      "text/plain": [
       "product\n",
       "long life bakery product    1.000000\n",
       "sausage                     0.052463\n",
       "butter milk                 0.050783\n",
       "frozen potato products      0.049946\n",
       "rolls/buns                  0.044416\n",
       "Name: long life bakery product, dtype: float64"
      ]
     },
     "execution_count": 13,
     "metadata": {},
     "output_type": "execute_result"
    }
   ],
   "source": [
    "### ╰( ͡° ͜ʖ ͡° )つ▬▬ι═══════  bzzzzzzzzzz\n",
    "# will the code be with you\n",
    "\n",
    "unique_products = df['product'].unique()\n",
    "sales_correlation[np.random.choice(unique_products)].sort_values(ascending = False).head(5)\n"
   ]
  },
  {
   "cell_type": "markdown",
   "metadata": {},
   "source": [
    "__г)__ Какие два продукта коррелируют сильнее всего? Положите их название в лист `answer`"
   ]
  },
  {
   "cell_type": "code",
   "execution_count": null,
   "metadata": {
    "deletable": false,
    "nbgrader": {
     "cell_type": "code",
     "checksum": "a1a02722726bdf7cbe654db4c3218c07",
     "grade": false,
     "grade_id": "cell-dd462f4db3d9a2f7",
     "locked": false,
     "schema_version": 3,
     "solution": true,
     "task": false
    }
   },
   "outputs": [
    {
     "data": {
      "text/plain": [
       "['soups', 'preservation products']"
      ]
     },
     "execution_count": 14,
     "metadata": {},
     "output_type": "execute_result"
    }
   ],
   "source": [
    "### ╰( ͡° ͜ʖ ͡° )つ▬▬ι═══════  bzzzzzzzzzz\n",
    "# will the code be with you\n",
    "\n",
    "# Формат ответа: массив из строк, пример: ['soups', 'apple', 'iphone 18']\n",
    "answer = list(sales_correlation.unstack()[sales_correlation.unstack() != 1].sort_values(ascending = False).index[0])\n",
    "answer\n"
   ]
  },
  {
   "cell_type": "code",
   "execution_count": 15,
   "metadata": {
    "deletable": false,
    "editable": false,
    "nbgrader": {
     "cell_type": "code",
     "checksum": "6ff9da58bc1861cd17f35b979e3d3e41",
     "grade": true,
     "grade_id": "cell-894ff9bec07f24e0",
     "locked": true,
     "points": 1,
     "schema_version": 3,
     "solution": false,
     "task": false
    }
   },
   "outputs": [],
   "source": [
    "# проверка, что задание решено корректно\n",
    "assert 'soups' in answer\n",
    "\n",
    "# Аналогичные тесты скрыты от вас"
   ]
  },
  {
   "cell_type": "markdown",
   "metadata": {},
   "source": [
    "Конечно же, корреляция — это [не единственный способ искать](https://habr.com/ru/company/ods/blog/353502/) между покупками ассоциативные правила."
   ]
  },
  {
   "cell_type": "markdown",
   "metadata": {},
   "source": [
    "## 2. Зависимость. \n",
    "\n",
    "В лекции мы с вами сказали, что события $A$ и $B$ называются независимыми, если $P(AB) = P(A)\\cdot P(B)$. Отталкиваясь от этого определения, можно ввести другую характеристику, которая показывает, насколько продукты зависят друг от друга, а именно __поддержку (lift).__ \n",
    "\n",
    "$$\n",
    "lift = \\frac{P(AB)}{P(A)\\cdot P(B)}\n",
    "$$"
   ]
  },
  {
   "cell_type": "markdown",
   "metadata": {},
   "source": [
    "Эта метрика описывает отношение зависимости товаров к их независимости. Если оказалось, что `lift = 1`, это означает, что покупка товара $A$ не зависит от покупки товара $B$. Если `lift > 1`, то это означает, что вероятность встретить оба товара в чеке, $P(AB)$ высокая, то есть товары покупают вместе. Если `lift < 1`, это означает, что товары, наоборот, очень часто покупают по-отдельности. "
   ]
  },
  {
   "cell_type": "markdown",
   "metadata": {},
   "source": [
    "__д)__ Посчитайте значение нашей метрики для яиц и молока (`'whole milk', 'domestic eggs'`). Запишите получившиеся значение метрики в переменную `answer`.\n",
    "\n",
    "> Вам аккуратно нужно сделать три среза по условию  `>= 1`. Там, где пара надо делать срез так, чтобы оба товара дали `True`. Сделать это в одну строку вам поможет метод `.all(axis=1)`. Частоты можно получить методом `.mean()`, так как python думает, что `False` - это ноль, а `True` - это единица."
   ]
  },
  {
   "cell_type": "code",
   "execution_count": 26,
   "metadata": {
    "deletable": false,
    "nbgrader": {
     "cell_type": "code",
     "checksum": "7f3a2317b0d46f2e40f1180f36e55dd6",
     "grade": false,
     "grade_id": "cell-db191a336be19f97",
     "locked": false,
     "schema_version": 3,
     "solution": true,
     "task": false
    }
   },
   "outputs": [
    {
     "data": {
      "text/plain": [
       "1.152241691425711"
      ]
     },
     "execution_count": 26,
     "metadata": {},
     "output_type": "execute_result"
    }
   ],
   "source": [
    "### ╰( ͡° ͜ʖ ͡° )つ▬▬ι═══════  bzzzzzzzzzz\n",
    "# will the code be with you\n",
    "\n",
    "# Формат ответа: действительное чиссло, пример: 3.1418281828\n",
    "answer = len(sparse_sales[(sparse_sales['whole milk'] >= 1) & (sparse_sales['domestic eggs'] >= 1)]) / (len(sparse_sales) * (sparse_sales['whole milk'] >= 1).mean() * (sparse_sales['domestic eggs'] >= 1).mean())\n",
    "answer\n"
   ]
  },
  {
   "cell_type": "code",
   "execution_count": 17,
   "metadata": {
    "deletable": false,
    "editable": false,
    "nbgrader": {
     "cell_type": "code",
     "checksum": "ae6b5fdfedb6956db845d780ce9bfbf0",
     "grade": true,
     "grade_id": "cell-c2f789696293a0b3",
     "locked": true,
     "points": 1,
     "schema_version": 3,
     "solution": false,
     "task": false
    }
   },
   "outputs": [],
   "source": [
    "# проверка, что задание решено корректно\n",
    "assert answer < 3\n",
    "assert answer > 1\n",
    "\n",
    "# Аналогичные тесты скрыты от вас"
   ]
  },
  {
   "cell_type": "markdown",
   "metadata": {},
   "source": [
    "__е)__ Посчитайте значение метрики для всех пар продуктов из датасета. Сохраните значения в словарик `dict`. В качестве ключа используете кортеж из пары продуктов. Чтобы удобнее было перебрать все сочетания, используйте `combinations` из модуля `itertools`.\n",
    "\n",
    "Чтобы при подсчётах не возникало деления на ноль, добавьте к знаменателю маленькое число, например `1e-10`."
   ]
  },
  {
   "cell_type": "code",
   "execution_count": 20,
   "metadata": {
    "deletable": false,
    "nbgrader": {
     "cell_type": "code",
     "checksum": "26f315f8a90daedcda97ffc328155445",
     "grade": false,
     "grade_id": "cell-e512719bd3dbbd34",
     "locked": false,
     "schema_version": 3,
     "solution": true,
     "task": false
    }
   },
   "outputs": [],
   "source": [
    "### ╰( ͡° ͜ʖ ͡° )つ▬▬ι═══════  bzzzzzzzzzz\n",
    "# will the code be with you\n",
    "\n",
    "from itertools import combinations\n",
    "\n",
    "unique_products = sparse_sales.columns\n",
    "dict = {}\n",
    "\n",
    "for product_pair in combinations(unique_products, 2):\n",
    "    product1, product2 = product_pair\n",
    "    \n",
    "    filtered_sales = sparse_sales[(sparse_sales[product1] >= 1) & (sparse_sales[product2] >= 1)]\n",
    "    \n",
    "    joint_probability = len(filtered_sales) / len(sparse_sales)\n",
    "    \n",
    "    prob_product1 = (sparse_sales[product1] >= 1).mean()\n",
    "    prob_product2 = (sparse_sales[product2] >= 1).mean()\n",
    "    \n",
    "    lift_value = joint_probability / ((prob_product1 * prob_product2) + 1e-10)\n",
    "    \n",
    "    dict[product_pair] = lift_value\n"
   ]
  },
  {
   "cell_type": "markdown",
   "metadata": {},
   "source": [
    "Сколько пар продуктов покупали вместе хотя бы раз? Запишите ответ в переменную `answer`."
   ]
  },
  {
   "cell_type": "code",
   "execution_count": 29,
   "metadata": {
    "deletable": false,
    "nbgrader": {
     "cell_type": "code",
     "checksum": "eefa1ae8918a171dac3c431005fe824a",
     "grade": false,
     "grade_id": "cell-097e70120aa5a596",
     "locked": false,
     "schema_version": 3,
     "solution": true,
     "task": false
    }
   },
   "outputs": [
    {
     "data": {
      "text/plain": [
       "9824"
      ]
     },
     "execution_count": 29,
     "metadata": {},
     "output_type": "execute_result"
    }
   ],
   "source": [
    "### ╰( ͡° ͜ʖ ͡° )つ▬▬ι═══════  bzzzzzzzzzz\n",
    "# will the code be with you\n",
    "\n",
    "# Формат ответа: целое число, пример: 5555\n",
    "answer = sum(1 for value in dict.values() if value > 0)\n",
    "answer"
   ]
  },
  {
   "cell_type": "markdown",
   "metadata": {},
   "source": [
    "Для какой пары продуктов метрика $lift$ оказалась самой большой? "
   ]
  },
  {
   "cell_type": "code",
   "execution_count": 22,
   "metadata": {
    "deletable": false,
    "nbgrader": {
     "cell_type": "code",
     "checksum": "3935f2223dddf3a9658a90034e2ebd5d",
     "grade": false,
     "grade_id": "cell-e0e772420c99a1f4",
     "locked": false,
     "schema_version": 3,
     "solution": true,
     "task": false
    }
   },
   "outputs": [
    {
     "name": "stdout",
     "output_type": "stream",
     "text": [
      "('preservation products', 'soups')\n"
     ]
    }
   ],
   "source": [
    "### ╰( ͡° ͜ʖ ͡° )つ▬▬ι═══════  bzzzzzzzzzz\n",
    "# will the code be with you\n",
    "\n",
    "print(max(dict, key = dict.get))\n"
   ]
  },
  {
   "cell_type": "markdown",
   "metadata": {},
   "source": [
    "Сколько раз эти продукты встретились в выборке? Как думаете адеватно ли делать выводы по такому объёму данных? "
   ]
  },
  {
   "cell_type": "code",
   "execution_count": 24,
   "metadata": {
    "deletable": false,
    "nbgrader": {
     "cell_type": "code",
     "checksum": "dc2e17f19344df8a8e09d989c31e436b",
     "grade": false,
     "grade_id": "cell-cfbf5b5deb321f36",
     "locked": false,
     "schema_version": 3,
     "solution": true,
     "task": false
    }
   },
   "outputs": [
    {
     "name": "stdout",
     "output_type": "stream",
     "text": [
      "1\n",
      "Нет, выборка слишком мала\n"
     ]
    }
   ],
   "source": [
    "### ╰( ͡° ͜ʖ ͡° )つ▬▬ι═══════  bzzzzzzzzzz\n",
    "# will the code be with you\n",
    "\n",
    "print(len(sparse_sales[(sparse_sales[max(dict, key = dict.get)[0]] >= 1) & (sparse_sales[max(dict, key = dict.get)[1]] >= 1)]))\n",
    "\n",
    "print(\"Нет, выборка слишком мала\")"
   ]
  },
  {
   "cell_type": "markdown",
   "metadata": {},
   "source": [
    "Для какой пары продуктов метрика оказывается самой маленькой? "
   ]
  },
  {
   "cell_type": "code",
   "execution_count": 27,
   "metadata": {
    "deletable": false,
    "nbgrader": {
     "cell_type": "code",
     "checksum": "a4a911333c146c4d9ec09e8f51a5fb6c",
     "grade": false,
     "grade_id": "cell-0c88c82cc7bdef09",
     "locked": false,
     "schema_version": 3,
     "solution": true,
     "task": false
    }
   },
   "outputs": [
    {
     "name": "stdout",
     "output_type": "stream",
     "text": [
      "('Instant food products', 'abrasive cleaner')\n"
     ]
    }
   ],
   "source": [
    "### ╰( ͡° ͜ʖ ͡° )つ▬▬ι═══════  bzzzzzzzzzz\n",
    "# will the code be with you\n",
    "\n",
    "print(min(dict, key = dict.get))\n"
   ]
  },
  {
   "cell_type": "code",
   "execution_count": 30,
   "metadata": {
    "deletable": false,
    "editable": false,
    "nbgrader": {
     "cell_type": "code",
     "checksum": "c15571d658306ab43839bcf4d8e42bae",
     "grade": true,
     "grade_id": "cell-b7f41317d840457e",
     "locked": true,
     "points": 1,
     "schema_version": 3,
     "solution": false,
     "task": false
    }
   },
   "outputs": [],
   "source": [
    "# проверка, что задание решено корректно\n",
    "\n",
    "assert answer < 10000\n",
    "assert answer > 9000\n",
    "\n",
    "# Аналогичные тесты скрыты от вас"
   ]
  },
  {
   "cell_type": "markdown",
   "metadata": {},
   "source": [
    "## 3. Неоцениваемые задания\n",
    "\n",
    "Выше мы увидели, что некоторые продукты встречаются в выборке очень редко. Понятное дело, что по ним у нас не получится построить хорошее ассоциативное правило. Попробуйте повторить расчёт той же метрики, но с условием что продукт покупали больше 10 раз. Изучите самые покупаемые вместе продукты и самые непокупаемые вместе продукты. Насколько сильно список отличается от полученного в предыдущем задании? "
   ]
  },
  {
   "cell_type": "code",
   "execution_count": 33,
   "metadata": {
    "deletable": false,
    "nbgrader": {
     "cell_type": "code",
     "checksum": "99e685544038e446e2d67bd1cd4f6a3c",
     "grade": false,
     "grade_id": "cell-aa30f3933e22e20d",
     "locked": false,
     "schema_version": 3,
     "solution": true,
     "task": false
    }
   },
   "outputs": [
    {
     "name": "stdout",
     "output_type": "stream",
     "text": [
      "Pair with highest lift: ('honey', 'ready soups')\n",
      "Pair with lowest lift: ('Instant food products', 'abrasive cleaner')\n"
     ]
    }
   ],
   "source": [
    "### ╰( ͡° ͜ʖ ͡° )つ▬▬ι═══════  bzzzzzzzzzz\n",
    "# will the code be with you\n",
    "\n",
    "product_purchase_counts = sparse_sales.sum()\n",
    "popular_products = product_purchase_counts[product_purchase_counts > 10].index\n",
    "filtered_sales_data = sparse_sales[popular_products]\n",
    "dict = {}\n",
    "for pair in combinations(popular_products, 2):\n",
    "    product1, product2 = pair\n",
    "    \n",
    "    transactions_with_both = filtered_sales_data[(filtered_sales_data[product1] >= 1) & (filtered_sales_data[product2] >= 1)]\n",
    "    joint_purchase_probability = len(transactions_with_both) / len(filtered_sales_data)\n",
    "\n",
    "    individual_purchase_probability1 = (filtered_sales_data[product1] >= 1).mean()\n",
    "    individual_purchase_probability2 = (filtered_sales_data[product2] >= 1).mean()\n",
    "    \n",
    "    lift = joint_purchase_probability / ((individual_purchase_probability1 * individual_purchase_probability2) + 1e-10)\n",
    "    dict[pair] = lift\n",
    "\n",
    "print(f'Pair with highest lift: {max(dict, key=dict.get)}')\n",
    "print(f'Pair with lowest lift: {min(dict, key=dict.get)}')"
   ]
  },
  {
   "cell_type": "markdown",
   "metadata": {},
   "source": [
    "Иногда в чеках пытаются искать __продукты-якоря.__ То есть продукты, которые являются основными. Например: айфон - основной продукт, наушники и чехол - дополнения к нему. Подумайте как можно попытаться найти такие продукты на основе простых метрик, основанных на подсчёте условных вероятностей."
   ]
  },
  {
   "cell_type": "markdown",
   "metadata": {},
   "source": [
    " "
   ]
  }
 ],
 "metadata": {
  "kernelspec": {
   "display_name": "Python 3",
   "language": "python",
   "name": "python3"
  },
  "language_info": {
   "codemirror_mode": {
    "name": "ipython",
    "version": 3
   },
   "file_extension": ".py",
   "mimetype": "text/x-python",
   "name": "python",
   "nbconvert_exporter": "python",
   "pygments_lexer": "ipython3",
   "version": "3.11.9"
  }
 },
 "nbformat": 4,
 "nbformat_minor": 2
}
