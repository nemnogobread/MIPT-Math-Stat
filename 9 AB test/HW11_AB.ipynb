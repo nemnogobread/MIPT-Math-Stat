{
 "cells": [
  {
   "cell_type": "markdown",
   "metadata": {},
   "source": [
    "<center>\n",
    "<img src=\"logo.png\" height=\"900\"> \n",
    "</center>\n",
    "\n",
    "\n",
    "#  Обсчёт АБ-теста"
   ]
  },
  {
   "cell_type": "code",
   "execution_count": null,
   "metadata": {},
   "outputs": [],
   "source": [
    "import numpy as np\n",
    "import pandas as pd\n",
    "import seaborn as sns\n",
    "import scipy.stats as sts\n",
    "import matplotlib.pyplot as plt\n",
    "\n",
    "plt.style.use('ggplot')\n",
    "%matplotlib inline"
   ]
  },
  {
   "cell_type": "markdown",
   "metadata": {},
   "source": [
    "Давайте представим, что у нас с вами есть сервис, который работает по подписке (онлайн игра, стриминговый сервис, например). Один из важных факторов успешности бизнеса в таком случае - это удержание пользователей, нам надо придумать, как заинтересовать пользователя в продлении подпсики. Возникла идея дать скидку в $1\\%$ на продление подписки. Чтобы оценить эфект от этой идеи мы как-то разбили пользователей, которые купили подписку за период теста, на две группы и одним дали скидку на продление, а другим нет."
   ]
  },
  {
   "cell_type": "code",
   "execution_count": 3,
   "metadata": {},
   "outputs": [
    {
     "name": "stdout",
     "output_type": "stream",
     "text": [
      "(25935, 10)\n"
     ]
    },
    {
     "data": {
      "text/html": [
       "<div>\n",
       "<style scoped>\n",
       "    .dataframe tbody tr th:only-of-type {\n",
       "        vertical-align: middle;\n",
       "    }\n",
       "\n",
       "    .dataframe tbody tr th {\n",
       "        vertical-align: top;\n",
       "    }\n",
       "\n",
       "    .dataframe thead th {\n",
       "        text-align: right;\n",
       "    }\n",
       "</style>\n",
       "<table border=\"1\" class=\"dataframe\">\n",
       "  <thead>\n",
       "    <tr style=\"text-align: right;\">\n",
       "      <th></th>\n",
       "      <th>user_id</th>\n",
       "      <th>service_id</th>\n",
       "      <th>product_name</th>\n",
       "      <th>product_duration</th>\n",
       "      <th>rn</th>\n",
       "      <th>sale_date</th>\n",
       "      <th>last_duration_days</th>\n",
       "      <th>new_duration_days</th>\n",
       "      <th>is_same</th>\n",
       "      <th>group</th>\n",
       "    </tr>\n",
       "  </thead>\n",
       "  <tbody>\n",
       "    <tr>\n",
       "      <th>0</th>\n",
       "      <td>47233</td>\n",
       "      <td>929</td>\n",
       "      <td>subscription</td>\n",
       "      <td>1_month</td>\n",
       "      <td>1</td>\n",
       "      <td>2018-12-21</td>\n",
       "      <td>30.0</td>\n",
       "      <td>30</td>\n",
       "      <td>1</td>\n",
       "      <td>0</td>\n",
       "    </tr>\n",
       "    <tr>\n",
       "      <th>1</th>\n",
       "      <td>50195</td>\n",
       "      <td>929</td>\n",
       "      <td>subscription</td>\n",
       "      <td>1_month</td>\n",
       "      <td>1</td>\n",
       "      <td>2019-03-17</td>\n",
       "      <td>30.0</td>\n",
       "      <td>30</td>\n",
       "      <td>1</td>\n",
       "      <td>1</td>\n",
       "    </tr>\n",
       "    <tr>\n",
       "      <th>2</th>\n",
       "      <td>62594</td>\n",
       "      <td>929</td>\n",
       "      <td>subscription</td>\n",
       "      <td>1_month</td>\n",
       "      <td>1</td>\n",
       "      <td>2019-02-08</td>\n",
       "      <td>30.0</td>\n",
       "      <td>30</td>\n",
       "      <td>1</td>\n",
       "      <td>0</td>\n",
       "    </tr>\n",
       "    <tr>\n",
       "      <th>3</th>\n",
       "      <td>68918</td>\n",
       "      <td>929</td>\n",
       "      <td>subscription</td>\n",
       "      <td>1_month</td>\n",
       "      <td>2</td>\n",
       "      <td>2019-03-19</td>\n",
       "      <td>30.0</td>\n",
       "      <td>30</td>\n",
       "      <td>1</td>\n",
       "      <td>1</td>\n",
       "    </tr>\n",
       "    <tr>\n",
       "      <th>4</th>\n",
       "      <td>91900</td>\n",
       "      <td>929</td>\n",
       "      <td>subscription</td>\n",
       "      <td>3_month</td>\n",
       "      <td>1</td>\n",
       "      <td>2018-10-29</td>\n",
       "      <td>30.0</td>\n",
       "      <td>90</td>\n",
       "      <td>0</td>\n",
       "      <td>0</td>\n",
       "    </tr>\n",
       "  </tbody>\n",
       "</table>\n",
       "</div>"
      ],
      "text/plain": [
       "   user_id  service_id  product_name product_duration  rn   sale_date  \\\n",
       "0    47233         929  subscription          1_month   1  2018-12-21   \n",
       "1    50195         929  subscription          1_month   1  2019-03-17   \n",
       "2    62594         929  subscription          1_month   1  2019-02-08   \n",
       "3    68918         929  subscription          1_month   2  2019-03-19   \n",
       "4    91900         929  subscription          3_month   1  2018-10-29   \n",
       "\n",
       "   last_duration_days  new_duration_days  is_same  group  \n",
       "0                30.0                 30        1      0  \n",
       "1                30.0                 30        1      1  \n",
       "2                30.0                 30        1      0  \n",
       "3                30.0                 30        1      1  \n",
       "4                30.0                 90        0      0  "
      ]
     },
     "execution_count": 3,
     "metadata": {},
     "output_type": "execute_result"
    }
   ],
   "source": [
    "df1 = pd.read_csv('data/subscribers_1.csv', sep=',')\n",
    "print(df1.shape)\n",
    "df1.head( )"
   ]
  },
  {
   "cell_type": "markdown",
   "metadata": {},
   "source": [
    "* `rn` - порядковый номер покупки подписки за период.  \n",
    "* `last_duration_days` - длительность предыдущей подписки.\n",
    "* `new_duration_days` - длительность текущей подписки.\n",
    "* `is_same` - менялась ли длительность подписки.\n",
    "* `group` - группа теста, в которую попал пользователь. 1 - тест, 0 - контроль."
   ]
  },
  {
   "cell_type": "markdown",
   "metadata": {},
   "source": [
    "__а)__ Обсчитайте результаты АБ-теста. Найдите разницу между старой и новой длительностями подписки. Постройте для этой разницы гистограмму. Подумайте и дайте себе ответ на следующие вопросы:\n",
    "\n",
    "- Можно ли воспользоваться предпосылкой о нормальности распределения приростов и проверить гипотезу тестом Уэлча? \n",
    "- Переменная, для которой мы проводим тест имеет дискретное распределение. Можно ли здесь использовать тест Манна-Уитни? Даст ли это коректный результат? \n",
    "- Будет ли корректно использовать для проверки гипотезы ЦПТ и тест о равенстве средних, основанный на ней? "
   ]
  },
  {
   "cell_type": "code",
   "execution_count": null,
   "metadata": {
    "deletable": false,
    "nbgrader": {
     "cell_type": "code",
     "checksum": "0fe5480859f0bca14a42243b85755151",
     "grade": false,
     "grade_id": "cell-bdd9e5329b3db1a1",
     "locked": false,
     "schema_version": 3,
     "solution": true,
     "task": false
    }
   },
   "outputs": [
    {
     "data": {
      "image/png": "[encoded data removed]",
      "text/plain": [
       "<Figure size 1000x600 with 1 Axes>"
      ]
     },
     "metadata": {},
     "output_type": "display_data"
    }
   ],
   "source": [
    "### ╰( ͡° ͜ʖ ͡° )つ▬▬ι═══════  bzzzzzzzzzz\n",
    "# will the code be with you\n",
    "\n",
    "# your code here\n",
    "\n",
    "df1['duration_diff'] = df1['new_duration_days'] - df1['last_duration_days']\n",
    "plt.figure(figsize=(10, 6))\n",
    "sns.histplot(df1['duration_diff'], kde=True, bins=60)\n",
    "plt.title('Распределение разницы длительности подписок')\n",
    "plt.xlabel('Разница в днях')\n",
    "plt.ylabel('Частота')\n",
    "plt.show()"
   ]
  },
  {
   "cell_type": "markdown",
   "metadata": {},
   "source": [
    "- Тест Уэлча можно использовать, если распределение близко к нормальному. По гистограмме нельзя точно понять, какое распределение наблюдается, так как хорошо видель только один пин около нуля (скорее равномерное распределение, или точечное), хвостов же нет практически.\n",
    "- Тест Манна-Уитни применим, но интерпретирует разницу в распределениях, а не средних. Результаты могут быть менее точными для дискретных данных.\n",
    "- ЦПТ обоснована при больших выборках, поэтому тест на средние корректен (в нашем случае данных >10000, что совсем неплохо)"
   ]
  },
  {
   "cell_type": "markdown",
   "metadata": {},
   "source": [
    "Правда ли, что средняя длительность подписки изменилась на $1\\%$ уровне значимости? Для ответа на этот вопрос воспользуйтесь асимптотическим тестом на равенство средних против двусторонней альтернативы. Сохраните в переменную `z_obs` получившееся значение статистики, а в `pvalue` получившееся $p$-значение."
   ]
  },
  {
   "cell_type": "code",
   "execution_count": null,
   "metadata": {
    "deletable": false,
    "nbgrader": {
     "cell_type": "code",
     "checksum": "abff103ab41763fc052dca962943d349",
     "grade": false,
     "grade_id": "cell-62ddf31733694201",
     "locked": false,
     "schema_version": 3,
     "solution": true,
     "task": false
    }
   },
   "outputs": [],
   "source": [
    "### ╰( ͡° ͜ʖ ͡° )つ▬▬ι═══════  bzzzzzzzzzz\n",
    "# will the code be with you\n",
    "\n",
    "z_obs = ...\n",
    "pvalue = ...\n",
    "\n",
    "# your code here\n",
    "from statsmodels.stats.weightstats import ztest\n",
    "\n",
    "control = df1[df1['group'] == 0]['duration_diff']\n",
    "test_group = df1[df1['group'] == 1]['duration_diff']\n",
    "\n",
    "z_obs, pvalue = ztest(test_group, control, value=0, alternative='two-sided')"
   ]
  },
  {
   "cell_type": "code",
   "execution_count": 16,
   "metadata": {
    "deletable": false,
    "editable": false,
    "nbgrader": {
     "cell_type": "code",
     "checksum": "772e95b8b784d307dcdaaf8f4a3f07bf",
     "grade": true,
     "grade_id": "cell-15ae7f9f303d1b04",
     "locked": true,
     "points": 1,
     "schema_version": 3,
     "solution": false,
     "task": false
    }
   },
   "outputs": [],
   "source": [
    "# проверка того, что задание решено верно\n",
    "assert np.abs(z_obs) < 1\n",
    "assert np.abs(z_obs) > 0.7\n",
    "\n",
    "# подобные тесты скрыты от вас \n"
   ]
  },
  {
   "cell_type": "markdown",
   "metadata": {},
   "source": [
    "__б)__ А теперь представим, что мы продвинутые АБ-тестеры и решили провести ААБ тест (2 контрольные группы и одну тестовую)."
   ]
  },
  {
   "cell_type": "code",
   "execution_count": 17,
   "metadata": {},
   "outputs": [
    {
     "name": "stdout",
     "output_type": "stream",
     "text": [
      "(25935, 10)\n"
     ]
    },
    {
     "data": {
      "text/html": [
       "<div>\n",
       "<style scoped>\n",
       "    .dataframe tbody tr th:only-of-type {\n",
       "        vertical-align: middle;\n",
       "    }\n",
       "\n",
       "    .dataframe tbody tr th {\n",
       "        vertical-align: top;\n",
       "    }\n",
       "\n",
       "    .dataframe thead th {\n",
       "        text-align: right;\n",
       "    }\n",
       "</style>\n",
       "<table border=\"1\" class=\"dataframe\">\n",
       "  <thead>\n",
       "    <tr style=\"text-align: right;\">\n",
       "      <th></th>\n",
       "      <th>user_id</th>\n",
       "      <th>service_id</th>\n",
       "      <th>product_name</th>\n",
       "      <th>product_duration</th>\n",
       "      <th>rn</th>\n",
       "      <th>sale_date</th>\n",
       "      <th>last_duration_days</th>\n",
       "      <th>new_duration_days</th>\n",
       "      <th>is_same</th>\n",
       "      <th>new_group</th>\n",
       "    </tr>\n",
       "  </thead>\n",
       "  <tbody>\n",
       "    <tr>\n",
       "      <th>0</th>\n",
       "      <td>47233</td>\n",
       "      <td>929</td>\n",
       "      <td>subscription</td>\n",
       "      <td>1_month</td>\n",
       "      <td>1</td>\n",
       "      <td>2018-12-21</td>\n",
       "      <td>30.0</td>\n",
       "      <td>30</td>\n",
       "      <td>1</td>\n",
       "      <td>0</td>\n",
       "    </tr>\n",
       "    <tr>\n",
       "      <th>1</th>\n",
       "      <td>50195</td>\n",
       "      <td>929</td>\n",
       "      <td>subscription</td>\n",
       "      <td>1_month</td>\n",
       "      <td>1</td>\n",
       "      <td>2019-03-17</td>\n",
       "      <td>30.0</td>\n",
       "      <td>30</td>\n",
       "      <td>1</td>\n",
       "      <td>2</td>\n",
       "    </tr>\n",
       "    <tr>\n",
       "      <th>2</th>\n",
       "      <td>62594</td>\n",
       "      <td>929</td>\n",
       "      <td>subscription</td>\n",
       "      <td>1_month</td>\n",
       "      <td>1</td>\n",
       "      <td>2019-02-08</td>\n",
       "      <td>30.0</td>\n",
       "      <td>30</td>\n",
       "      <td>1</td>\n",
       "      <td>0</td>\n",
       "    </tr>\n",
       "    <tr>\n",
       "      <th>3</th>\n",
       "      <td>68918</td>\n",
       "      <td>929</td>\n",
       "      <td>subscription</td>\n",
       "      <td>1_month</td>\n",
       "      <td>2</td>\n",
       "      <td>2019-03-19</td>\n",
       "      <td>30.0</td>\n",
       "      <td>30</td>\n",
       "      <td>1</td>\n",
       "      <td>2</td>\n",
       "    </tr>\n",
       "    <tr>\n",
       "      <th>4</th>\n",
       "      <td>91900</td>\n",
       "      <td>929</td>\n",
       "      <td>subscription</td>\n",
       "      <td>3_month</td>\n",
       "      <td>1</td>\n",
       "      <td>2018-10-29</td>\n",
       "      <td>30.0</td>\n",
       "      <td>90</td>\n",
       "      <td>0</td>\n",
       "      <td>0</td>\n",
       "    </tr>\n",
       "  </tbody>\n",
       "</table>\n",
       "</div>"
      ],
      "text/plain": [
       "   user_id  service_id  product_name product_duration  rn   sale_date  \\\n",
       "0    47233         929  subscription          1_month   1  2018-12-21   \n",
       "1    50195         929  subscription          1_month   1  2019-03-17   \n",
       "2    62594         929  subscription          1_month   1  2019-02-08   \n",
       "3    68918         929  subscription          1_month   2  2019-03-19   \n",
       "4    91900         929  subscription          3_month   1  2018-10-29   \n",
       "\n",
       "   last_duration_days  new_duration_days  is_same  new_group  \n",
       "0                30.0                 30        1          0  \n",
       "1                30.0                 30        1          2  \n",
       "2                30.0                 30        1          0  \n",
       "3                30.0                 30        1          2  \n",
       "4                30.0                 90        0          0  "
      ]
     },
     "execution_count": 17,
     "metadata": {},
     "output_type": "execute_result"
    }
   ],
   "source": [
    "df2 = pd.read_csv('data/subscribers_2.csv', sep=',')\n",
    "print(df2.shape)\n",
    "df2.head( )"
   ]
  },
  {
   "cell_type": "markdown",
   "metadata": {},
   "source": [
    "* `new_group` - группа теста, в которую попал пользователь. $2$ - тест, $0,1$ - контроль."
   ]
  },
  {
   "cell_type": "markdown",
   "metadata": {},
   "source": [
    "Проверьте гипотезу о том, что в каждой из контрольных групп среднее совпадает с тестовой на уровне значимости $1\\%$. Получившиеся $p$-значения запишите в переменные `pval_1` и `pval_2`. Сделайте корректировку методом Холма. Запишите количество отвергнутых гипотез в переменную `hyp_cnt`. "
   ]
  },
  {
   "cell_type": "code",
   "execution_count": 24,
   "metadata": {
    "deletable": false,
    "nbgrader": {
     "cell_type": "code",
     "checksum": "7dbeb0e4bd70bbf5ca2a786c94e0eff3",
     "grade": false,
     "grade_id": "cell-e72008defcd8a206",
     "locked": false,
     "schema_version": 3,
     "solution": true,
     "task": false
    }
   },
   "outputs": [],
   "source": [
    "### ╰( ͡° ͜ʖ ͡° )つ▬▬ι═══════  bzzzzzzzzzz\n",
    "# will the code be with you\n",
    "\n",
    "pval_1 = ...\n",
    "pval_2 = ...\n",
    "hyp_cnt = ...\n",
    "\n",
    "# your code here\n",
    "\n",
    "df2['duration_diff'] = df2['last_duration_days'] - df2['new_duration_days']\n",
    "group0 = df2[df2['new_group'] == 0]['duration_diff']\n",
    "group1 = df2[df2['new_group'] == 1]['duration_diff']\n",
    "group2 = df2[df2['new_group'] == 2]['duration_diff']\n",
    "\n",
    "_, pval_1 = ztest(group2, group0, value=0, alternative='two-sided')\n",
    "_, pval_2 = ztest(group2, group1, value=0, alternative='two-sided')\n",
    "\n",
    "from statsmodels.stats.multitest import multipletests\n",
    "pvals = [pval_1, pval_2]\n",
    "reject, pvals_corrected, _, _ = multipletests(pvals, alpha=0.01, method='holm')\n",
    "hyp_cnt = sum(reject)"
   ]
  },
  {
   "cell_type": "code",
   "execution_count": 25,
   "metadata": {
    "deletable": false,
    "editable": false,
    "nbgrader": {
     "cell_type": "code",
     "checksum": "499e2b0b4544d9defbd834ec238696df",
     "grade": true,
     "grade_id": "cell-e215872b40397664",
     "locked": true,
     "points": 1,
     "schema_version": 3,
     "solution": false,
     "task": false
    }
   },
   "outputs": [],
   "source": [
    "# проверка того, что задание решено верно\n",
    "assert pval_1 < 0.5\n",
    "assert pval_1 > 0.4\n",
    "assert pval_2 > 0.3\n",
    "assert pval_2 < 0.4\n",
    "\n",
    "# подобные тесты скрыты от вас "
   ]
  },
  {
   "cell_type": "markdown",
   "metadata": {},
   "source": [
    "Какие выводы можно сделать из этого теста?  Валиден ли такой тест?  Если нет, то в чем может быть проблема? Если тут вообще смысл делать поправку Холма?"
   ]
  },
  {
   "cell_type": "markdown",
   "metadata": {},
   "source": [
    "После корректировки Холма ни одна из гипотез не отвергается на уровне значимости 1%, тест валиден только при условии, что контрольные группы (0 и 1) однородны. Если между ними есть систематические различия, это нарушает предпосылки ААВ-теста.\n",
    "\n",
    "Поправка Холма здесь уместна, так как проводится множественное сравнение. Однако в данном случае она лишь подтверждает отсутствие статистически значимых различий."
   ]
  }
 ],
 "metadata": {
  "kernelspec": {
   "display_name": "Python 3",
   "language": "python",
   "name": "python3"
  },
  "language_info": {
   "codemirror_mode": {
    "name": "ipython",
    "version": 3
   },
   "file_extension": ".py",
   "mimetype": "text/x-python",
   "name": "python",
   "nbconvert_exporter": "python",
   "pygments_lexer": "ipython3",
   "version": "3.12.4"
  }
 },
 "nbformat": 4,
 "nbformat_minor": 2
}
