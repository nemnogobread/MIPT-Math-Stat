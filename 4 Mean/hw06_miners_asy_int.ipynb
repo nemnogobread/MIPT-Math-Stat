{
 "cells": [
  {
   "cell_type": "markdown",
   "metadata": {
    "deletable": false,
    "editable": false,
    "nbgrader": {
     "cell_type": "markdown",
     "checksum": "264d537341f6a276df704ef226ded3ad",
     "grade": false,
     "grade_id": "cell-8caa20e8c937bd3c",
     "locked": true,
     "schema_version": 3,
     "solution": false,
     "task": false
    }
   },
   "source": [
    "<center>\n",
    "<img src=\"logo.png\" height=\"900\"> \n",
    "</center>\n",
    "\n",
    "\n",
    "#  Аварии на шахтах"
   ]
  },
  {
   "cell_type": "code",
   "execution_count": 1,
   "metadata": {},
   "outputs": [],
   "source": [
    "import numpy as np\n",
    "\n",
    "import scipy.stats as sts\n",
    "import matplotlib.pyplot as plt\n",
    "\n",
    "plt.style.use('ggplot')  # стиль для графиков\n",
    "%matplotlib inline"
   ]
  },
  {
   "cell_type": "markdown",
   "metadata": {
    "deletable": false,
    "editable": false,
    "nbgrader": {
     "cell_type": "markdown",
     "checksum": "80970bc9f21db2cc2cf85d64c918e72a",
     "grade": false,
     "grade_id": "cell-75d58b9b3f8d9f28",
     "locked": true,
     "schema_version": 3,
     "solution": false,
     "task": false
    }
   },
   "source": [
    "На угольных шахтах ежегодно происходят аварии. Англия довольно давно собирает информацию о числе крупных аварий. Именно её нам предстоит проанализировать:\n",
    "\n",
    "* хочется понять как часто в среднем происходят аварии \n",
    "* насколько большой у среднего числа аварий доверительный интервал"
   ]
  },
  {
   "cell_type": "code",
   "execution_count": 3,
   "metadata": {},
   "outputs": [
    {
     "data": {
      "text/html": [
       "<div>\n",
       "<style scoped>\n",
       "    .dataframe tbody tr th:only-of-type {\n",
       "        vertical-align: middle;\n",
       "    }\n",
       "\n",
       "    .dataframe tbody tr th {\n",
       "        vertical-align: top;\n",
       "    }\n",
       "\n",
       "    .dataframe thead th {\n",
       "        text-align: right;\n",
       "    }\n",
       "</style>\n",
       "<table border=\"1\" class=\"dataframe\">\n",
       "  <thead>\n",
       "    <tr style=\"text-align: right;\">\n",
       "      <th></th>\n",
       "      <th>year</th>\n",
       "      <th>count</th>\n",
       "    </tr>\n",
       "  </thead>\n",
       "  <tbody>\n",
       "    <tr>\n",
       "      <th>1</th>\n",
       "      <td>1851</td>\n",
       "      <td>4</td>\n",
       "    </tr>\n",
       "    <tr>\n",
       "      <th>2</th>\n",
       "      <td>1852</td>\n",
       "      <td>5</td>\n",
       "    </tr>\n",
       "    <tr>\n",
       "      <th>3</th>\n",
       "      <td>1853</td>\n",
       "      <td>4</td>\n",
       "    </tr>\n",
       "    <tr>\n",
       "      <th>4</th>\n",
       "      <td>1854</td>\n",
       "      <td>1</td>\n",
       "    </tr>\n",
       "    <tr>\n",
       "      <th>5</th>\n",
       "      <td>1855</td>\n",
       "      <td>0</td>\n",
       "    </tr>\n",
       "  </tbody>\n",
       "</table>\n",
       "</div>"
      ],
      "text/plain": [
       "   year  count\n",
       "1  1851      4\n",
       "2  1852      5\n",
       "3  1853      4\n",
       "4  1854      1\n",
       "5  1855      0"
      ]
     },
     "execution_count": 3,
     "metadata": {},
     "output_type": "execute_result"
    }
   ],
   "source": [
    "import pandas as pd\n",
    "\n",
    "df = pd.read_csv(\"data/coals.csv\", index_col=0)\n",
    "df.head()"
   ]
  },
  {
   "cell_type": "markdown",
   "metadata": {
    "deletable": false,
    "editable": false,
    "nbgrader": {
     "cell_type": "markdown",
     "checksum": "250e18d302d16fb1e7626720133789aa",
     "grade": false,
     "grade_id": "cell-71d1eaf34ae3f8a6",
     "locked": true,
     "schema_version": 3,
     "solution": false,
     "task": false
    }
   },
   "source": [
    "В колонке `year` находится год наблюдений. В колонке `count` число аварий за этот год на шахтах в Англии. Посмотрим на распределение числа аварий. "
   ]
  },
  {
   "cell_type": "code",
   "execution_count": 6,
   "metadata": {},
   "outputs": [
    {
     "data": {
      "text/plain": [
       "<Axes: >"
      ]
     },
     "execution_count": 6,
     "metadata": {},
     "output_type": "execute_result"
    },
    {
     "data": {
      "image/png": "[encoded data removed]",
      "text/plain": [
       "<Figure size 640x480 with 1 Axes>"
      ]
     },
     "metadata": {},
     "output_type": "display_data"
    }
   ],
   "source": [
    "df['count'].hist(bins=30)"
   ]
  },
  {
   "cell_type": "markdown",
   "metadata": {
    "deletable": false,
    "editable": false,
    "nbgrader": {
     "cell_type": "markdown",
     "checksum": "93cd51081378129d848714a7563024ff",
     "grade": false,
     "grade_id": "cell-8f81fc0ac935f974",
     "locked": true,
     "schema_version": 3,
     "solution": false,
     "task": false
    }
   },
   "source": [
    "Судя по гистограмме уместно предположить, что число аварий имеет распределение Пуассона, $Poiss(\\lambda)$.  То есть, если мы хотим что-то понять про среднее число аварий, нам надо оценить параметр $\\lambda$. \n",
    "\n",
    "__а) Метод моментов__\n",
    "\n",
    "Найдите оценку параметра $\\lambda$ с помощью метода моментов. Запишите получившийся результат в переменную `lambda_hat`."
   ]
  },
  {
   "cell_type": "code",
   "execution_count": 7,
   "metadata": {
    "deletable": false,
    "nbgrader": {
     "cell_type": "code",
     "checksum": "6049e41ea6548d69159f2393c9925ae4",
     "grade": false,
     "grade_id": "cell-a4673b56f9be221f",
     "locked": false,
     "schema_version": 3,
     "solution": true,
     "task": false
    }
   },
   "outputs": [
    {
     "name": "stdout",
     "output_type": "stream",
     "text": [
      "112 1.7053571428571428\n"
     ]
    }
   ],
   "source": [
    "n_hat = df.shape[0]   # число наблюдений \n",
    "lam_hat = df['count'].mean()      # ваша оценка метода моментов\n",
    "\n",
    "print(n_hat, lam_hat)\n"
   ]
  },
  {
   "cell_type": "code",
   "execution_count": 8,
   "metadata": {
    "deletable": false,
    "editable": false,
    "nbgrader": {
     "cell_type": "code",
     "checksum": "117fde3908c70c607bca06c6891a2166",
     "grade": true,
     "grade_id": "cell-3f10ac75755a9483",
     "locked": true,
     "points": 1,
     "schema_version": 3,
     "solution": false,
     "task": false
    }
   },
   "outputs": [],
   "source": [
    "# проверка, что оценка была найдена корректно \n",
    "# похожие тесты, но для lam_hat скрыты от вас\n",
    "# они запустятся после того как вы сдадите тетрадку на проверку в грейдер\n",
    "\n",
    "assert n_hat == 112 \n"
   ]
  },
  {
   "cell_type": "markdown",
   "metadata": {
    "deletable": false,
    "editable": false,
    "nbgrader": {
     "cell_type": "markdown",
     "checksum": "5373ea0323b4f1e9ec5f7aec07405ae4",
     "grade": false,
     "grade_id": "cell-8f0e34a726943feb",
     "locked": true,
     "schema_version": 3,
     "solution": false,
     "task": false
    }
   },
   "source": [
    "__б) Стандартное отклонение__ \n",
    "\n",
    "Среднее, оценённое методом моментов будет иметь асимптотически нормальное распределение. Оцените стандартное отклонение этого распределения по выборке и запишите ответ в переменную `lam_se`. \n",
    "\n",
    "> __Примечание:__ мы предполагаем, что выборка пришла из распределения Пуассона. Для него $Var(X) = \\lambda$. Для оценки стандартного отклонения используйте этот факт. Конечно же вы можете оценить его через функцию `std`, в плане асимптотики результат получится одинаковый. Оба способа корректны. Но с точки зрения грейдера, у вас будет ошибка. "
   ]
  },
  {
   "cell_type": "code",
   "execution_count": 11,
   "metadata": {
    "deletable": false,
    "nbgrader": {
     "cell_type": "code",
     "checksum": "54decfbbc0de5710e1aa0a16b72e5d9b",
     "grade": false,
     "grade_id": "cell-d89f8ff08d240616",
     "locked": false,
     "schema_version": 3,
     "solution": true,
     "task": false
    }
   },
   "outputs": [
    {
     "data": {
      "text/plain": [
       "0.1233953121525469"
      ]
     },
     "execution_count": 11,
     "metadata": {},
     "output_type": "execute_result"
    }
   ],
   "source": [
    "lam_se = np.sqrt(lam_hat / n_hat)        # ваша оценка\n",
    "lam_se\n"
   ]
  },
  {
   "cell_type": "code",
   "execution_count": 13,
   "metadata": {
    "deletable": false,
    "editable": false,
    "nbgrader": {
     "cell_type": "code",
     "checksum": "a5ee075cc38d98f6c39e043cd4c05421",
     "grade": true,
     "grade_id": "cell-69d840309379a00d",
     "locked": true,
     "points": 1,
     "schema_version": 3,
     "solution": false,
     "task": false
    }
   },
   "outputs": [],
   "source": [
    "# проверка, что оценка была найдена корректно \n",
    "assert lam_se < 1.6474\n",
    "\n",
    "# несколько похожих тестов скрыты от вас\n"
   ]
  },
  {
   "cell_type": "markdown",
   "metadata": {
    "deletable": false,
    "editable": false,
    "nbgrader": {
     "cell_type": "markdown",
     "checksum": "7dfcd40b0f6db2961f79ad6d0e1ff5ff",
     "grade": false,
     "grade_id": "cell-5f789ce2b6509de9",
     "locked": true,
     "schema_version": 3,
     "solution": false,
     "task": false
    }
   },
   "source": [
    "__в) Доверительный интервал__ \n",
    "\n",
    "Постройте для неизвестного математического ожидания $\\lambda$ доверительный интервал. Возьмите уровень значимости равный $10\\%$. В переменные `left` и `right` запишите соотвествующие границы интервала. В переменную `delta` запишите его ширину."
   ]
  },
  {
   "cell_type": "code",
   "execution_count": 14,
   "metadata": {
    "deletable": false,
    "nbgrader": {
     "cell_type": "code",
     "checksum": "a77ddc886a5ae31e07ce44aaa10eb3f1",
     "grade": false,
     "grade_id": "cell-729da6fec593102e",
     "locked": false,
     "schema_version": 3,
     "solution": true,
     "task": false
    }
   },
   "outputs": [
    {
     "data": {
      "text/plain": [
       "(1.502389916114217, 1.9083243696000687, 0.4059344534858518)"
      ]
     },
     "execution_count": 14,
     "metadata": {},
     "output_type": "execute_result"
    }
   ],
   "source": [
    "alpha = 0.1\n",
    "\n",
    "left = lam_hat - sts.norm.ppf(1 - alpha / 2) * lam_se\n",
    "right = lam_hat + sts.norm.ppf(1 - alpha / 2) * lam_se\n",
    "delta = right - left\n",
    "\n",
    "left, right, delta\n"
   ]
  },
  {
   "cell_type": "code",
   "execution_count": 15,
   "metadata": {
    "deletable": false,
    "editable": false,
    "nbgrader": {
     "cell_type": "code",
     "checksum": "3ed7ae976f53cb8a49b16d38aaa90d82",
     "grade": true,
     "grade_id": "cell-681b7ef69959cc8f",
     "locked": true,
     "points": 1,
     "schema_version": 3,
     "solution": false,
     "task": false
    }
   },
   "outputs": [],
   "source": [
    "# проверка, что границы доверительного интервала найдены верно\n",
    "assert np.abs(left - 1.502389916114217) < 1e-5\n",
    "\n",
    "# несколько похожих тестов скрыты от вас\n"
   ]
  },
  {
   "cell_type": "markdown",
   "metadata": {
    "deletable": false,
    "editable": false,
    "nbgrader": {
     "cell_type": "markdown",
     "checksum": "4d631c3f9d5ebeb5d67e62d85a83ed08",
     "grade": false,
     "grade_id": "cell-bf0ff017e366f60d",
     "locked": true,
     "schema_version": 3,
     "solution": false,
     "task": false
    }
   },
   "source": [
    "__г) Число катастроф__  \n",
    "\n",
    "Многие говорят, что в $20$ веке катастроф стало на порядок меньше. Давайте проверим это. Постройте оценку для $\\lambda_1$ по данным до $1900$ года включительно. Постройте оценку для $\\lambda_2$ по данным после $1900$ года. Для разности $\\lambda_1 - \\lambda_2$ постройте $95\\%$ доверительный интервал. "
   ]
  },
  {
   "cell_type": "code",
   "execution_count": 16,
   "metadata": {
    "deletable": false,
    "nbgrader": {
     "cell_type": "code",
     "checksum": "acbbeb4a6bf1695cf002916cf371973b",
     "grade": false,
     "grade_id": "cell-a52534c295035fea",
     "locked": false,
     "schema_version": 3,
     "solution": true,
     "task": false
    }
   },
   "outputs": [
    {
     "data": {
      "text/plain": [
       "(1.2835473859716393, 2.3100010011251353, 1.026453615153496)"
      ]
     },
     "execution_count": 16,
     "metadata": {},
     "output_type": "execute_result"
    }
   ],
   "source": [
    "x = df[df.year <= 1900]['count']\n",
    "y = df[df.year > 1900]['count']\n",
    "\n",
    "alpha = 0.05\n",
    "\n",
    "left = (x.mean() - y.mean()) - sts.norm.ppf(1 - alpha / 2) * np.sqrt(x.mean() / len(x) + y.mean() / len(y))\n",
    "right = (x.mean() - y.mean()) + sts.norm.ppf(1 - alpha / 2) * np.sqrt(x.mean() / len(x) + y.mean() / len(y))\n",
    "delta = right - left\n",
    "left, right, delta\n"
   ]
  },
  {
   "cell_type": "code",
   "execution_count": 17,
   "metadata": {
    "deletable": false,
    "editable": false,
    "nbgrader": {
     "cell_type": "code",
     "checksum": "3be2e28094cf1c1ed7a9945547c78424",
     "grade": true,
     "grade_id": "cell-40e69d1d970e89ea",
     "locked": true,
     "points": 2,
     "schema_version": 3,
     "solution": false,
     "task": false
    }
   },
   "outputs": [],
   "source": [
    "# проверка, что границы доверительного интервала найдены верно\n",
    "assert x.size == 50\n",
    "assert np.abs(left - 1.2835473859716393) < 1e-5\n",
    "\n",
    "# несколько похожих тестов скрыты от вас\n"
   ]
  },
  {
   "cell_type": "markdown",
   "metadata": {
    "deletable": false,
    "editable": false,
    "nbgrader": {
     "cell_type": "markdown",
     "checksum": "283692227b153b139be90a29fc9d61d5",
     "grade": false,
     "grade_id": "cell-856039d3919cfd24",
     "locked": true,
     "schema_version": 3,
     "solution": false,
     "task": false
    }
   },
   "source": [
    "Ноль не вошёл в этот доверительный интервал. Это означает, что на уровне значимости $5\\%$ мы можем сказать, что число аварий правда снизилось. "
   ]
  },
  {
   "cell_type": "markdown",
   "metadata": {},
   "source": [
    "__д) Вероятность для распределения Пуассона__ \n",
    "\n",
    "Вспомните формулу, по которой считается вероятность того, что Пуассоновская случайная величина примет какое-то значение. Найдите точечную оценку вероятности того, что произойдёт только одна авария. В качестве $\\lambda$ используйте оценку метода моментов, полученную в первом задании. "
   ]
  },
  {
   "cell_type": "code",
   "execution_count": 19,
   "metadata": {
    "deletable": false,
    "nbgrader": {
     "cell_type": "code",
     "checksum": "677de3c04a3c8f7acc00e08729a9999a",
     "grade": false,
     "grade_id": "cell-1383c35748bfed27",
     "locked": false,
     "schema_version": 3,
     "solution": true,
     "task": false
    }
   },
   "outputs": [],
   "source": [
    "import math\n",
    "\n",
    "def poiss_prob(k):\n",
    "    return np.exp(-lam_hat) * lam_hat**k / math.factorial(k)"
   ]
  },
  {
   "cell_type": "code",
   "execution_count": 20,
   "metadata": {
    "deletable": false,
    "editable": false,
    "nbgrader": {
     "cell_type": "code",
     "checksum": "ffdc0ad39329220bb912820095666af1",
     "grade": true,
     "grade_id": "cell-301364eca6748674",
     "locked": true,
     "points": 1,
     "schema_version": 3,
     "solution": false,
     "task": false
    }
   },
   "outputs": [],
   "source": [
    "# проверка,функции\n",
    "assert np.abs(poiss_prob(1) - 0.3098761) < 1e-5\n",
    "\n",
    "# похожие тесты скрыты от вас\n"
   ]
  },
  {
   "cell_type": "markdown",
   "metadata": {
    "deletable": false,
    "editable": false,
    "nbgrader": {
     "cell_type": "markdown",
     "checksum": "7f2badfbccaaf93be8606789c37481f9",
     "grade": false,
     "grade_id": "cell-0e3a31dfc730da6f",
     "locked": true,
     "schema_version": 3,
     "solution": false,
     "task": false
    }
   },
   "source": [
    "__е) Дельта-метод__ \n",
    "\n",
    "Та вероятность, которую мы нашли в предыдущем пункте - это лишь точечная оценка. Она является функцией от среднего. С помощью дельта-метода постройте для этой вероятности $95\\%$ довертельный интервал."
   ]
  },
  {
   "cell_type": "code",
   "execution_count": 21,
   "metadata": {
    "deletable": false,
    "nbgrader": {
     "cell_type": "code",
     "checksum": "25bd6905ed924461b79cea1e154754a2",
     "grade": false,
     "grade_id": "cell-cd0a438c7adffcdb",
     "locked": false,
     "schema_version": 3,
     "solution": true,
     "task": false
    }
   },
   "outputs": [
    {
     "data": {
      "text/plain": [
       "(0.27887850777625484, 0.34087378686549136, 0.06199527908923652)"
      ]
     },
     "execution_count": 21,
     "metadata": {},
     "output_type": "execute_result"
    }
   ],
   "source": [
    "from scipy.stats import norm\n",
    "\n",
    "alpha = 0.05\n",
    "\n",
    "prob = np.exp(-lam_hat) * (1 - lam_hat / math.factorial(2) * 2)\n",
    "left = poiss_prob(1) - norm.ppf(1 - alpha / 2) * abs(prob) * np.sqrt(lam_hat / n_hat)\n",
    "right = poiss_prob(1) + norm.ppf(1 - alpha / 2) * abs(prob) * np.sqrt(lam_hat / n_hat)\n",
    "delta = right - left\n",
    "left, right, delta"
   ]
  },
  {
   "cell_type": "code",
   "execution_count": 22,
   "metadata": {
    "deletable": false,
    "editable": false,
    "nbgrader": {
     "cell_type": "code",
     "checksum": "f8e5cd561d1d807ff0ffc046bcf72db4",
     "grade": true,
     "grade_id": "cell-94c00ca69c5dadef",
     "locked": true,
     "points": 4,
     "schema_version": 3,
     "solution": false,
     "task": false
    }
   },
   "outputs": [],
   "source": [
    "# проверка, что интервал построен корректно\n",
    "assert np.abs(left - 0.279) < 1e-3\n",
    "\n",
    "# похожие тесты скрыты от вас\n"
   ]
  },
  {
   "cell_type": "markdown",
   "metadata": {
    "deletable": false,
    "editable": false,
    "nbgrader": {
     "cell_type": "markdown",
     "checksum": "10a701f826377d3ac37362b3ab3f9b92",
     "grade": false,
     "grade_id": "cell-f0b4e99983c91ca4",
     "locked": true,
     "schema_version": 3,
     "solution": false,
     "task": false
    }
   },
   "source": [
    "По аналогии можно построить доверительные интервалы для вероятности того, что случайная величина примет значения от нуля до девяти. Проделайте это в качестве необязательного упражнения и оформите процедуру расчёта в виде функции."
   ]
  },
  {
   "cell_type": "code",
   "execution_count": 44,
   "metadata": {
    "deletable": false,
    "nbgrader": {
     "cell_type": "code",
     "checksum": "c069ad8ca5fbcff71b79428535a2b4ba",
     "grade": false,
     "grade_id": "cell-957ca214e0fc17cb",
     "locked": false,
     "schema_version": 3,
     "solution": true,
     "task": false
    }
   },
   "outputs": [],
   "source": [
    "def prob_ci(k, alpha = 0.01, lam_hat=lam_hat):\n",
    "    prob = []\n",
    "    \n",
    "    if k == 0: \n",
    "        prob = -np.exp(-lam_hat)\n",
    "    else: \n",
    "        prob = np.exp(-lam_hat) * (lam_hat**(k - 1) - lam_hat**k / math.factorial(k + 1) * (k + 1))\n",
    "    \n",
    "    left = poiss_prob(1) - norm.ppf(1 - alpha / 2) * abs(prob) * np.sqrt(lam_hat / n_hat)\n",
    "    right = poiss_prob(1) + norm.ppf(1 - alpha / 2) * abs(prob) * np.sqrt(lam_hat / n_hat)\n",
    "    \n",
    "    return left, right"
   ]
  },
  {
   "cell_type": "code",
   "execution_count": 45,
   "metadata": {},
   "outputs": [],
   "source": [
    "left, right = prob_ci(1)\n",
    "delta = right - left\n",
    "\n",
    "assert np.abs(delta - 0.08147) < 1e-5\n",
    "\n",
    "left, right = prob_ci(0)\n",
    "delta = right - left\n",
    "\n",
    "assert np.abs(delta - 0.11551) < 1e-5"
   ]
  },
  {
   "cell_type": "markdown",
   "metadata": {},
   "source": [
    "Сделали функцию? Запускайте код для не очень информативной картинки!"
   ]
  },
  {
   "cell_type": "code",
   "execution_count": 46,
   "metadata": {},
   "outputs": [
    {
     "data": {
      "image/png": "[encoded data removed]",
      "text/plain": [
       "<Figure size 1000x500 with 1 Axes>"
      ]
     },
     "metadata": {},
     "output_type": "display_data"
    }
   ],
   "source": [
    "poiss_rv = sts.poisson(lam_hat)\n",
    "\n",
    "x = np.arange(10)\n",
    "\n",
    "p = poiss_rv.pmf(x)\n",
    "left, right = zip(*[prob_ci(k) for k in x])\n",
    "\n",
    "plt.figure(figsize=(10,5))\n",
    "plt.plot(x, p, 'bo', ms=6, label='poisson pmf')\n",
    "plt.fill_between(x, left, right, alpha=0.5)\n",
    "plt.vlines(x, 0, p, lw=1)\n",
    "plt.legend(loc='best', frameon=False)\n",
    "plt.show()"
   ]
  },
  {
   "cell_type": "code",
   "execution_count": 47,
   "metadata": {},
   "outputs": [
    {
     "name": "stdout",
     "output_type": "stream",
     "text": [
      "Вероятность P(X=0) лежит между  0.25212 и 0.36763\n",
      "Вероятность P(X=1) лежит между  0.26914 и 0.35061\n",
      "Вероятность P(X=2) лежит между  0.29537 и 0.32439\n",
      "Вероятность P(X=3) лежит между  0.18965 и 0.4301\n",
      "Вероятность P(X=4) лежит между  0.043789 и 0.57596\n",
      "Вероятность P(X=5) лежит между  -0.17167 и 0.79142\n",
      "Вероятность P(X=6) лежит между  -0.52119 и 1.1409\n",
      "Вероятность P(X=7) лежит между  -1.1103 и 1.73\n",
      "Вероятность P(X=8) лежит между  -2.1127 и 2.7325\n",
      "Вероятность P(X=9) лежит между  -3.8216 и 4.4414\n"
     ]
    }
   ],
   "source": [
    "for k,(i,j) in enumerate(zip(left, right)):\n",
    "    print(f\"Вероятность P(X={k}) лежит между  {i:.5} и {j:.5}\")"
   ]
  },
  {
   "cell_type": "markdown",
   "metadata": {
    "deletable": false,
    "editable": false,
    "nbgrader": {
     "cell_type": "markdown",
     "checksum": "8f6311fca1d92124280fe941a5617cdf",
     "grade": false,
     "grade_id": "cell-77d5ebfab1514cda",
     "locked": true,
     "schema_version": 3,
     "solution": false,
     "task": false
    }
   },
   "source": [
    "Интервалы получился довольно короткими. Попробуйте поиграться с уровнем значимости и посмотреть как они меняются в зависимости от него. "
   ]
  },
  {
   "cell_type": "markdown",
   "metadata": {
    "deletable": false,
    "editable": false,
    "nbgrader": {
     "cell_type": "markdown",
     "checksum": "b207b13b56e3339a7ba971a435ce5390",
     "grade": false,
     "grade_id": "cell-b3dd31a15c05e245",
     "locked": true,
     "schema_version": 3,
     "solution": false,
     "task": false
    }
   },
   "source": [
    "В этой терадке нам осталось обсудить последний нюанс. Мы из теории вероятностей знаем, что для случайной величины $X$, имеющей распределение Пуассона $\\mathbb{E}(X) = Var(X) = \\lambda$. Для текущей выборки мы видим, что между дисперсией и средним есть небольшое отличие. "
   ]
  },
  {
   "cell_type": "code",
   "execution_count": 48,
   "metadata": {},
   "outputs": [
    {
     "data": {
      "text/plain": [
       "1.7053571428571428"
      ]
     },
     "execution_count": 48,
     "metadata": {},
     "output_type": "execute_result"
    }
   ],
   "source": [
    "df['count'].mean()"
   ]
  },
  {
   "cell_type": "code",
   "execution_count": 49,
   "metadata": {},
   "outputs": [
    {
     "data": {
      "text/plain": [
       "2.714205276705277"
      ]
     },
     "execution_count": 49,
     "metadata": {},
     "output_type": "execute_result"
    }
   ],
   "source": [
    "df['count'].var()"
   ]
  },
  {
   "cell_type": "markdown",
   "metadata": {
    "deletable": false,
    "editable": false,
    "nbgrader": {
     "cell_type": "markdown",
     "checksum": "b4a780958afa9edf3438cf326b4d525e",
     "grade": false,
     "grade_id": "cell-2b06fb08fa48e21a",
     "locked": true,
     "schema_version": 3,
     "solution": false,
     "task": false
    }
   },
   "source": [
    "Не факт, что мы имеем право предполагать, что наша выборка пришла к нам из распределения Пуассона. Все предпосылки о распределениях выборки нужно тестировать. Позже мы научимся это делать."
   ]
  }
 ],
 "metadata": {
  "kernelspec": {
   "display_name": "Python 3",
   "language": "python",
   "name": "python3"
  },
  "language_info": {
   "codemirror_mode": {
    "name": "ipython",
    "version": 3
   },
   "file_extension": ".py",
   "mimetype": "text/x-python",
   "name": "python",
   "nbconvert_exporter": "python",
   "pygments_lexer": "ipython3",
   "version": "3.11.9"
  }
 },
 "nbformat": 4,
 "nbformat_minor": 2
}
